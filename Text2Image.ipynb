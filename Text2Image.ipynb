{
 "cells": [
  {
   "cell_type": "code",
   "execution_count": 50,
   "metadata": {},
   "outputs": [],
   "source": [
    "\n",
    "lvl_root = 'gru_interpolation_32/'\n",
    "files = !ls {lvl_root}*\n",
    "\n",
    "linear_lvl_root = 'interpolations_32/'\n",
    "linear_files = !ls {linear_lvl_root}*\n",
    "\n",
    "files = [file.split('/')[1] for file in files]\n",
    "linear_files = [file.split('/')[1] for file in linear_files]\n",
    "\n",
    "files = list(set(files+linear_files))\n",
    "\n",
    "\n",
    "by_game_pair = {}\n",
    "for file in files:\n",
    "    #file = file.split('/')[1]\n",
    "    if len(file.split('-')) == 1:\n",
    "        continue\n",
    "    if '100%' in file:\n",
    "        continue\n",
    "    f1_2 = tuple(file.split('-')[:2])\n",
    "    file1 = f1_2[0]\n",
    "    file2 = f1_2[1]\n",
    "    game_pair = (file1.split('_')[0],file2.split('_')[0])\n",
    "    if game_pair not in by_game_pair:\n",
    "        by_game_pair[game_pair] = []\n",
    "    by_game_pair[game_pair].append((file1,file2))\n"
   ]
  },
  {
   "cell_type": "code",
   "execution_count": 59,
   "metadata": {},
   "outputs": [
    {
     "name": "stdout",
     "output_type": "stream",
     "text": [
      "[('Metroid_1544.txt', 'Ninja Gaiden_4809.txt'), ('Mario_983.txt', 'Ninja Gaiden_3379.txt'), ('MegaMan_3315.txt', 'Ninja Gaiden_4877.txt'), ('Castlevania_1177.txt', 'MegaMan_5903.txt'), ('MegaMan_3315.txt', 'Metroid_1544.txt'), ('Castlevania_1996.txt', 'Ninja Gaiden_4361.txt'), ('Castlevania_1012.txt', 'Metroid_1544.txt'), ('Castlevania_1012.txt', 'Mario_5757.txt'), ('Mario_4594.txt', 'MegaMan_3343.txt'), ('Mario_3837.txt', 'Metroid_2570.txt')]\n"
     ]
    }
   ],
   "source": [
    "import random \n",
    "pairings = []\n",
    "for gp in by_game_pair:\n",
    "    \n",
    "    if gp[0] == gp[1]:\n",
    "        continue\n",
    "    \n",
    "    file1,file2 = random.choice(by_game_pair[gp])\n",
    "    pairings.append((file1,file2))\n",
    "    \n",
    "    \n",
    "\n",
    "\n",
    "\n",
    "pairings = [('Metroid_1544.txt', 'Ninja Gaiden_4809.txt'), ('Mario_983.txt', 'Ninja Gaiden_3379.txt'), ('MegaMan_3315.txt', 'Ninja Gaiden_4877.txt'), ('Castlevania_1177.txt', 'MegaMan_5903.txt'), ('MegaMan_3315.txt', 'Metroid_1544.txt'), ('Castlevania_1996.txt', 'Ninja Gaiden_4361.txt'), ('Castlevania_1012.txt', 'Metroid_1544.txt'), ('Castlevania_1012.txt', 'Mario_5757.txt'), ('Mario_4594.txt', 'MegaMan_3343.txt'), ('Mario_3837.txt', 'Metroid_2570.txt')]\n",
    "\n",
    "print(pairings)"
   ]
  },
  {
   "cell_type": "code",
   "execution_count": 60,
   "metadata": {},
   "outputs": [
    {
     "name": "stdout",
     "output_type": "stream",
     "text": [
      "{'Ś': 'S', 'Ě': 'E', '+': '-', 'ě': 'e', 'Ǩ': 'X', '★': '*', '¦': '|', '⌅': '^', 'ѷ': 'v', '§': '$', '©': 'o'}\n"
     ]
    }
   ],
   "source": [
    "\n",
    "common_vocab = {('breakable', 'solid'):'|', \n",
    "                ('climbable', 'solid'):'|', \n",
    "                ('climbable', 'passable','solid'):'|', \n",
    "                ('collectable',):'o', \n",
    "                ('collectable', 'powerup'):'*', \n",
    "                ('collectable', 'solid'):'Q', \n",
    "                ('hazard',):'v', \n",
    "                ('hazard', 'moving'):'e', \n",
    "                ('hazard', 'moving', 'solid'):'E', \n",
    "                ('hazard', 'moving', 'passable', 'solid'):'E', \n",
    "                ('hazard', 'null', 'solid'):'@', \n",
    "                ('hazard', 'solid'):'^', \n",
    "                ('moving', 'solid'):'#', \n",
    "                ('portal',):'$',  \n",
    "                ('powerup', 'solid'):'!',\n",
    "                ('solid',):'X'}\n",
    "path_vocab = {'S':'Ś', 'E':'Ě', '-':'+', 'e':'ě', 'X':'Ǩ', '*':'★', \n",
    "              '|':'¦', '^':'⌅', 'v':'ѷ', '$':'§', 'o':'©'}\n",
    "\n",
    "path2common = {p:n for n,p in path_vocab.items()}\n",
    "print(path2common)\n",
    "vocab2image = {'S':'Tiles/boxCrate_double',\n",
    "               '|':'Tiles/ladderMid',\n",
    "               'o':'Items/coinBronze',\n",
    "               '*':'Items/star',\n",
    "               'Q':'Tiles/boxCoin',\n",
    "               '!':'Tiles/boxItem',\n",
    "               'v':'Tiles/spikes',\n",
    "               'e_air':'Enemies/bee',\n",
    "               'e':'Enemies/snail',\n",
    "               'E_air':'Enemies/bee',\n",
    "               'E':'Enemies/snail',\n",
    "               '^':'Enemies/saw',\n",
    "               '#':'Tiles/bridgeB',\n",
    "               '$':'Tiles/window',\n",
    "               'Player':'Players/128x256/Green/alienGreen_walk1',\n",
    "               'PlayerAir':'Players/128x256/Green/alienGreen_jump',\n",
    "               'PlayerLadder':'Players/128x256/Green/alienGreen_climb1',\n",
    "               \n",
    "              }"
   ]
  },
  {
   "cell_type": "code",
   "execution_count": 23,
   "metadata": {},
   "outputs": [
    {
     "data": {
      "image/png": "[encoded data removed]",
      "text/plain": [
       "<Figure size 432x288 with 1 Axes>"
      ]
     },
     "metadata": {
      "needs_background": "light"
     },
     "output_type": "display_data"
    },
    {
     "name": "stdout",
     "output_type": "stream",
     "text": [
      "(256, 128, 4)\n"
     ]
    }
   ],
   "source": [
    "import numpy as np\n",
    "import matplotlib.pyplot as plt\n",
    "from PIL import Image\n",
    "root = 'PNG'\n",
    "v2Image = {}\n",
    "for v,i in vocab2image.items():\n",
    "    im = np.array(Image.open(f'{root}/{i}.png'))\n",
    "    v2Image[v] = im\n",
    "    \n",
    "plt.imshow(im)\n",
    "plt.show()\n",
    "print(im.shape)\n",
    "cleared = set()"
   ]
  },
  {
   "cell_type": "code",
   "execution_count": 46,
   "metadata": {},
   "outputs": [],
   "source": [
    "\n",
    "done = set()"
   ]
  },
  {
   "cell_type": "code",
   "execution_count": 66,
   "metadata": {
    "scrolled": false
   },
   "outputs": [
    {
     "name": "stdout",
     "output_type": "stream",
     "text": [
      "Metroid_1544.txt Ninja Gaiden_4809.txt\n",
      "Mario_983.txt Ninja Gaiden_3379.txt\n",
      "MegaMan_3315.txt Ninja Gaiden_4877.txt\n",
      "Castlevania_1177.txt MegaMan_5903.txt\n",
      "MegaMan_3315.txt Metroid_1544.txt\n"
     ]
    },
    {
     "name": "stderr",
     "output_type": "stream",
     "text": [
      "WARNING:root:Lossy conversion from float64 to uint8. Range [31.0, 241.5]. Convert image to uint8 prior to saving to suppress this warning.\n"
     ]
    },
    {
     "name": "stdout",
     "output_type": "stream",
     "text": [
      "writing to  gru_interpolation_32/MegaMan_3315.txt-Metroid_1544.txt-50.png\n"
     ]
    },
    {
     "name": "stderr",
     "output_type": "stream",
     "text": [
      "WARNING:root:Lossy conversion from float64 to uint8. Range [31.0, 255.0]. Convert image to uint8 prior to saving to suppress this warning.\n"
     ]
    },
    {
     "name": "stdout",
     "output_type": "stream",
     "text": [
      "writing to  gru_interpolation_32/MegaMan_3315.txt-Metroid_1544.txt-75.png\n",
      "Castlevania_1996.txt Ninja Gaiden_4361.txt\n"
     ]
    },
    {
     "name": "stderr",
     "output_type": "stream",
     "text": [
      "WARNING:root:Lossy conversion from float64 to uint8. Range [0.0, 255.0]. Convert image to uint8 prior to saving to suppress this warning.\n"
     ]
    },
    {
     "name": "stdout",
     "output_type": "stream",
     "text": [
      "writing to  gru_interpolation_32/Castlevania_1996.txt-Ninja Gaiden_4361.txt-25.png\n",
      "writing to  gru_interpolation_32/Castlevania_1996.txt-Ninja Gaiden_4361.txt-50.png\n"
     ]
    },
    {
     "name": "stderr",
     "output_type": "stream",
     "text": [
      "WARNING:root:Lossy conversion from float64 to uint8. Range [0.0, 255.0]. Convert image to uint8 prior to saving to suppress this warning.\n"
     ]
    },
    {
     "name": "stdout",
     "output_type": "stream",
     "text": [
      "writing to  gru_interpolation_32/Castlevania_1996.txt-Ninja Gaiden_4361.txt-75.png\n"
     ]
    },
    {
     "name": "stderr",
     "output_type": "stream",
     "text": [
      "WARNING:root:Lossy conversion from float64 to uint8. Range [0.0, 255.0]. Convert image to uint8 prior to saving to suppress this warning.\n",
      "WARNING:root:Lossy conversion from float64 to uint8. Range [0.0, 255.0]. Convert image to uint8 prior to saving to suppress this warning.\n"
     ]
    },
    {
     "name": "stdout",
     "output_type": "stream",
     "text": [
      "writing to  gru_interpolation_32/Castlevania_1996.txt-100.png\n",
      "writing to  gru_interpolation_32/Ninja Gaiden_4361.txt-100.png\n"
     ]
    },
    {
     "name": "stderr",
     "output_type": "stream",
     "text": [
      "WARNING:root:Lossy conversion from float64 to uint8. Range [0.0, 255.0]. Convert image to uint8 prior to saving to suppress this warning.\n"
     ]
    },
    {
     "name": "stdout",
     "output_type": "stream",
     "text": [
      "Castlevania_1012.txt Metroid_1544.txt\n"
     ]
    },
    {
     "name": "stderr",
     "output_type": "stream",
     "text": [
      "WARNING:root:Lossy conversion from float64 to uint8. Range [0.0, 255.0]. Convert image to uint8 prior to saving to suppress this warning.\n"
     ]
    },
    {
     "name": "stdout",
     "output_type": "stream",
     "text": [
      "writing to  gru_interpolation_32/Castlevania_1012.txt-Metroid_1544.txt-25.png\n"
     ]
    },
    {
     "name": "stderr",
     "output_type": "stream",
     "text": [
      "WARNING:root:Lossy conversion from float64 to uint8. Range [0.0, 255.0]. Convert image to uint8 prior to saving to suppress this warning.\n"
     ]
    },
    {
     "name": "stdout",
     "output_type": "stream",
     "text": [
      "writing to  gru_interpolation_32/Castlevania_1012.txt-Metroid_1544.txt-50.png\n",
      "writing to  gru_interpolation_32/Castlevania_1012.txt-Metroid_1544.txt-75.png\n"
     ]
    },
    {
     "name": "stderr",
     "output_type": "stream",
     "text": [
      "WARNING:root:Lossy conversion from float64 to uint8. Range [0.0, 255.0]. Convert image to uint8 prior to saving to suppress this warning.\n"
     ]
    },
    {
     "name": "stdout",
     "output_type": "stream",
     "text": [
      "writing to  gru_interpolation_32/Castlevania_1012.txt-100.png\n"
     ]
    },
    {
     "name": "stderr",
     "output_type": "stream",
     "text": [
      "WARNING:root:Lossy conversion from float64 to uint8. Range [0.0, 255.0]. Convert image to uint8 prior to saving to suppress this warning.\n"
     ]
    },
    {
     "name": "stdout",
     "output_type": "stream",
     "text": [
      "Castlevania_1012.txt Mario_5757.txt\n"
     ]
    },
    {
     "name": "stderr",
     "output_type": "stream",
     "text": [
      "WARNING:root:Lossy conversion from float64 to uint8. Range [31.0, 219.0]. Convert image to uint8 prior to saving to suppress this warning.\n"
     ]
    },
    {
     "name": "stdout",
     "output_type": "stream",
     "text": [
      "writing to  gru_interpolation_32/Castlevania_1012.txt-Mario_5757.txt-25.png\n"
     ]
    },
    {
     "name": "stderr",
     "output_type": "stream",
     "text": [
      "WARNING:root:Lossy conversion from float64 to uint8. Range [31.0, 219.0]. Convert image to uint8 prior to saving to suppress this warning.\n"
     ]
    },
    {
     "name": "stdout",
     "output_type": "stream",
     "text": [
      "writing to  gru_interpolation_32/Castlevania_1012.txt-Mario_5757.txt-50.png\n"
     ]
    },
    {
     "name": "stderr",
     "output_type": "stream",
     "text": [
      "WARNING:root:Lossy conversion from float64 to uint8. Range [0.0, 255.0]. Convert image to uint8 prior to saving to suppress this warning.\n"
     ]
    },
    {
     "name": "stdout",
     "output_type": "stream",
     "text": [
      "writing to  gru_interpolation_32/Castlevania_1012.txt-Mario_5757.txt-75.png\n"
     ]
    },
    {
     "name": "stderr",
     "output_type": "stream",
     "text": [
      "WARNING:root:Lossy conversion from float64 to uint8. Range [0.0, 255.0]. Convert image to uint8 prior to saving to suppress this warning.\n"
     ]
    },
    {
     "name": "stdout",
     "output_type": "stream",
     "text": [
      "writing to  gru_interpolation_32/Mario_5757.txt-100.png\n",
      "Mario_4594.txt MegaMan_3343.txt\n",
      "Mario_3837.txt Metroid_2570.txt\n"
     ]
    },
    {
     "name": "stderr",
     "output_type": "stream",
     "text": [
      "WARNING:root:Lossy conversion from float64 to uint8. Range [0.0, 255.0]. Convert image to uint8 prior to saving to suppress this warning.\n"
     ]
    },
    {
     "name": "stdout",
     "output_type": "stream",
     "text": [
      "writing to  gru_interpolation_32/Mario_3837.txt-Metroid_2570.txt-25.png\n"
     ]
    },
    {
     "name": "stderr",
     "output_type": "stream",
     "text": [
      "WARNING:root:Lossy conversion from float64 to uint8. Range [0.0, 255.0]. Convert image to uint8 prior to saving to suppress this warning.\n"
     ]
    },
    {
     "name": "stdout",
     "output_type": "stream",
     "text": [
      "writing to  gru_interpolation_32/Mario_3837.txt-Metroid_2570.txt-50.png\n"
     ]
    },
    {
     "name": "stderr",
     "output_type": "stream",
     "text": [
      "WARNING:root:Lossy conversion from float64 to uint8. Range [0.0, 255.0]. Convert image to uint8 prior to saving to suppress this warning.\n"
     ]
    },
    {
     "name": "stdout",
     "output_type": "stream",
     "text": [
      "writing to  gru_interpolation_32/Mario_3837.txt-Metroid_2570.txt-75.png\n"
     ]
    },
    {
     "name": "stderr",
     "output_type": "stream",
     "text": [
      "WARNING:root:Lossy conversion from float64 to uint8. Range [0.0, 255.0]. Convert image to uint8 prior to saving to suppress this warning.\n"
     ]
    },
    {
     "name": "stdout",
     "output_type": "stream",
     "text": [
      "writing to  gru_interpolation_32/Mario_3837.txt-100.png\n",
      "writing to  gru_interpolation_32/Metroid_2570.txt-100.png\n"
     ]
    },
    {
     "name": "stderr",
     "output_type": "stream",
     "text": [
      "WARNING:root:Lossy conversion from float64 to uint8. Range [0.0, 255.0]. Convert image to uint8 prior to saving to suppress this warning.\n"
     ]
    }
   ],
   "source": [
    "import random\n",
    "import imageio\n",
    "        \n",
    "groundMapping = {121:'Mid',\n",
    "505:'Mid',\n",
    "127:'Center',\n",
    "511:'Center',\n",
    "63:'Center',\n",
    "511:'Center',\n",
    "56:'Mid',\n",
    "504:'Mid',\n",
    "436:'Left',\n",
    "209:'Mid',\n",
    "216:'Right',\n",
    "472:'Right',\n",
    "473:'Right',\n",
    "153:'Right',\n",
    "152:'Right',\n",
    "220:'Right',\n",
    "28:'Right',\n",
    "27:'Center',\n",
    "24:'Right',\n",
    "89:'Right',\n",
    "221:'Right',\n",
    "477:'Right',\n",
    "88:'Right',\n",
    "280:'Right',\n",
    "345:'Right',\n",
    "93:'Right',\n",
    "25:'Right',\n",
    "457:'Right',\n",
    "476:'Right',\n",
    "409:'Right',\n",
    "408:'Right',\n",
    "344:'Right',\n",
    "284:'Right',\n",
    "29:'Right',\n",
    "156:'Right',\n",
    "157:'Right',\n",
    "432:'Left',\n",
    "500:'Left',\n",
    "497:'Left',\n",
    "308:'Left',\n",
    "48:'Left',\n",
    "305:'Left',\n",
    "52:'Left',\n",
    "496:'Left',\n",
    "49:'Left',\n",
    "372:'Left',\n",
    "112:'Left',\n",
    "309:'Left',\n",
    "433:'Left',\n",
    "437:'Left',\n",
    "304:'Left',\n",
    "368:'Left',\n",
    "373:'Left',\n",
    "240:'Left',\n",
    "176:'Left',\n",
    "484:'Left',\n",
    "180:'Left',\n",
    "113:'Left',\n",
    "244:'Left',\n",
    "177:'Left',\n",
    "501:'Left',\n",
    "438:'Center',\n",
    "508:'Mid',\n",
    "509:'Mid',\n",
    "445:'Mid',\n",
    "248:'Mid',\n",
    "380:'Mid',\n",
    "120:'Mid',\n",
    "316:'Mid',\n",
    "441:'Mid',\n",
    "249:'Mid',\n",
    "208:'Mid',\n",
    "125:'Mid',\n",
    "312:'Mid',\n",
    "444:'Mid',\n",
    "124:'Mid',\n",
    "440:'Mid',\n",
    "377:'Mid',\n",
    "144:'Mid',\n",
    "184:'Mid',\n",
    "448:'Mid',\n",
    "61:'Mid',\n",
    "57:'Mid',\n",
    "317:'Mid',\n",
    "60:'Mid',\n",
    "400:'Mid',\n",
    "488:'Mid',\n",
    "313:'Mid',\n",
    "349:'Mid',\n",
    "116:'Mid',\n",
    "489:'Mid',\n",
    "404:'Mid',\n",
    "401:'Mid',\n",
    "145:'Mid',\n",
    "464:'Mid',\n",
    "465:'Mid',\n",
    "381:'Mid',\n",
    "376:'Mid',\n",
    "252:'Mid',\n",
    "253:'Mid',\n",
    "189:'Mid',\n",
    "148:'Mid',\n",
    "188:'Mid',\n",
    "468:'Mid',\n",
    "469:'Mid',\n",
    "16:'',\n",
    "17:'',\n",
    "20:'',\n",
    "21:'',\n",
    "80:'',\n",
    "81:'',\n",
    "84:'',\n",
    "85:'',\n",
    "272:'',\n",
    "273:'',\n",
    "276:'',\n",
    "277:'',\n",
    "336:'',\n",
    "337:'',\n",
    "340:'',\n",
    "341:'',                 \n",
    "151:'Center',\n",
    "255:'Center',\n",
    "223:'Center',\n",
    "219:'Center',\n",
    "281:'Mid',\n",
    "439:'Center',\n",
    "319:'Center',\n",
    "475:'Center',\n",
    "146:'Center',\n",
    "54:'Center',\n",
    "18:'Center',\n",
    "443:'Center',\n",
    "502:'Center',\n",
    "310:'Center',\n",
    "447:'Center',\n",
    "311:'Center',\n",
    "250:'Center',\n",
    "55:'Center',\n",
    "479:'Center',\n",
    "315:'Center',\n",
    "503:'Center',\n",
    "467:'Center',\n",
    "471:'Center',\n",
    "191:'Center',\n",
    "31:'Center',\n",
    "351:'Center',\n",
    "23:'Center',\n",
    "91:'Center',\n",
    "95:'Center',\n",
    "383:'Center',\n",
    "155:'Center',\n",
    "506:'Center',\n",
    "274:'Center',\n",
    "19:'Center',\n",
    "182:'Center',\n",
    "150:'Center',\n",
    "275:'Center',\n",
    "218:'Center',\n",
    "442:'Center',\n",
    "466:'Center',\n",
    "58:'Center',\n",
    "314:'Center',\n",
    "246:'Center',\n",
    "407:'Center',\n",
    "402:'Center',\n",
    "498:'Center',\n",
    "247:'Center',\n",
    "470:'Center',\n",
    "119:'Center',\n",
    "22:'Center',\n",
    "87:'Center',\n",
    "210:'Center',\n",
    "159:'Center',\n",
    "186:'Center',\n",
    "147:'Center',\n",
    "211:'Center',\n",
    "183:'Center',\n",
    "214:'Center',\n",
    "415:'Center',\n",
    "406:'Center',\n",
    "375:'Center',\n",
    "374:'Center',\n",
    "287:'Center',\n",
    "347:'Center',\n",
    "338:'Center',\n",
    "215:'Center',\n",
    "403:'Center',\n",
    "83:'Center',\n",
    "279:'Center',378:'Center',\n",
    "474:'Corner_right',\n",
    "30:'Corner_right',\n",
    "62:'Corner_right',\n",
    "254:'Corner_right',\n",
    "90:'Corner_right',\n",
    "510:'Corner_right',\n",
    "446:'Corner_right',\n",
    "350:'Corner_right',\n",
    "222:'Corner_right',\n",
    "286:'Corner_right',\n",
    "179:'Corner_right',\n",
    "26:'Corner_right',\n",
    "318:'Corner_right',\n",
    "382:'Corner_right',\n",
    "282:'Corner_right',\n",
    "478:'Corner_right',\n",
    "158:'Corner_right',\n",
    "190:'Corner_right',\n",
    "94:'Corner_right',\n",
    "126:'Corner_right',154:'Corner_right',\n",
    "507:'Corner_left',\n",
    "251:'Corner_left',\n",
    "123:'Corner_left',\n",
    "178:'Corner_left',\n",
    "187:'Corner_left',\n",
    "434:'Corner_left',\n",
    "499:'Corner_left',\n",
    "50:'Corner_left',\n",
    "306:'Corner_left',\n",
    "435:'Corner_left',\n",
    "242:'Corner_left',\n",
    "59:'Corner_left',\n",
    "                 379:'Corner_left',\n",
    "                 217:'Right'\n",
    "    }\n",
    "\n",
    "g2Image = {}\n",
    "root = 'PNG/Ground/Grass/grass'\n",
    "for m in groundMapping.values():\n",
    "    if m in g2Image:\n",
    "        continue\n",
    "    else:\n",
    "        g2Image[m] = np.array(Image.open(f'{root}{m}.png'))\n",
    "        \n",
    "for lvl_root in ['gru_interpolation_32/']:\n",
    "    for (file1,file2) in pairings:\n",
    "        print(file1,file2)\n",
    "        files = [f'{lvl_root}{file1}-{file2}-{p}%.txt' for p in range(25,100,25)]\n",
    "        files += [f'{lvl_root}{file1}-100%.txt',f'{lvl_root}{file2}-100%.txt']\n",
    "        files = [(file1,file2,p) for  p in range(25,100,25)]\n",
    "        files += [(file1,100),(file2,100)]\n",
    "        for f_params in files:\n",
    "            \n",
    "            level = []\n",
    "            try:\n",
    "                if len(f_params) == 3:\n",
    "                    file = f'{lvl_root}{file1}-{file2}-{f_params[2]}%.txt'\n",
    "                else:\n",
    "                    file = f'{lvl_root}{f_params[0]}-{f_params[1]}%.txt'\n",
    "                    \n",
    "                if file in done:\n",
    "                    continue\n",
    "                \n",
    "                with open(file) as infile:\n",
    "                    for line in infile:\n",
    "                        level.append(line.rstrip())\n",
    "            except:\n",
    "                if len(f_params) == 3:\n",
    "                    file = f'{lvl_root}{file2}-{file1}-{f_params[2]}%.txt'\n",
    "                else:\n",
    "                    file = f'{lvl_root}{f_params[0]}-{f_params[1]}%.txt'\n",
    "                    \n",
    "                if file in done:\n",
    "                    continue\n",
    "                \n",
    "                with open(file) as infile:\n",
    "                    for line in infile:\n",
    "                        level.append(line.rstrip())\n",
    "                \n",
    "            levelMap = {}\n",
    "            for yy,row in enumerate(level):\n",
    "                for xx,tile in enumerate(row):\n",
    "                    levelMap[(xx,yy)] = tile\n",
    "            seen = set()\n",
    "            seen |= set(groundMapping.keys())\n",
    "            def loc2tile(xx,yy):\n",
    "                index = 0\n",
    "                ii = 0\n",
    "                snippet = ''\n",
    "                for yy_ in [yy-1,yy,yy+1]:\n",
    "                    for xx_ in [xx-1,xx,xx+1]:\n",
    "\n",
    "                        loc = (xx_,yy_)\n",
    "                        if levelMap.get(loc,'X') == 'X': \n",
    "                            index += 2**ii\n",
    "                        snippet += levelMap.get(loc,'@')\n",
    "                        ii += 1\n",
    "                    snippet += '\\n'\n",
    "                if index not in seen:\n",
    "                    print(xx,yy)\n",
    "                    print(index)\n",
    "                    print(snippet,'\\n')\n",
    "                seen.add(index)\n",
    "                return groundMapping[index]\n",
    "            width = len(level[0])\n",
    "            height = len(level)\n",
    "            pix = 128\n",
    "\n",
    "            output_image = np.zeros((pix*height,pix*width,4))\n",
    "            path_image = np.zeros((pix*height,pix*width,4))\n",
    "            for yy,row in enumerate(reversed(level)):\n",
    "                yy = height-yy-1\n",
    "                for xx,tile in enumerate(row):\n",
    "                    has_path = False\n",
    "\n",
    "                    if tile in path2common:\n",
    "                        has_path = True\n",
    "                        tile = path2common[tile]\n",
    "                    if tile == '-':\n",
    "                        pass\n",
    "                    else:\n",
    "                        if tile == 'X':\n",
    "                            d = g2Image.get(loc2tile(xx,yy),'Mid')\n",
    "                            if d.shape[2] == 4:\n",
    "                                output_image[yy*pix:(yy+1)*pix,\n",
    "                                             xx*pix:(xx+1)*pix,:] = g2Image[loc2tile(xx,yy)]\n",
    "                            else:\n",
    "                                output_image[yy*pix:(yy+1)*pix,\n",
    "                                             xx*pix:(xx+1)*pix,:3] = g2Image[loc2tile(xx,yy)]\n",
    "                                output_image[yy*pix:(yy+1)*pix,\n",
    "                                             xx*pix:(xx+1)*pix,3] = 255\n",
    "                        else:\n",
    "                            if tile in ['E','e']:\n",
    "                                if levelMap.get((xx,yy+1),'@') != 'X':\n",
    "                                    tile += '_air'\n",
    "                            output_image[yy*pix:(yy+1)*pix,\n",
    "                                         xx*pix:(xx+1)*pix,:] = v2Image[tile]\n",
    "                    if has_path:\n",
    "                        mode = 'Air'\n",
    "\n",
    "                        if levelMap.get((xx,yy)) in ['|','¦']:\n",
    "                            mode = 'Ladder'\n",
    "                        elif levelMap.get((xx,yy+1),'-') in ['S','|','Q','^','#','!','¦','Ś','Ǩ','X','⌅']:\n",
    "                            mode = ''\n",
    "                        if yy == 0:\n",
    "                            path_image[(yy)*pix:(yy+1)*pix,\n",
    "                                        xx*pix:(xx+1)*pix,:] = v2Image['Player'+mode][pix:,:,:]                \n",
    "                        else:\n",
    "                            path_image[(yy-1)*pix:(yy+1)*pix,\n",
    "                                        xx*pix:(xx+1)*pix,:] = v2Image['Player'+mode]\n",
    "\n",
    "\n",
    "            mask = np.array(path_image[:,:,3] == 0,np.float)\n",
    "            m = 0.25\n",
    "            mask[mask<1] = m\n",
    "            mask = mask.reshape(mask.shape[0],mask.shape[1],1)\n",
    "            mask = np.concatenate((mask,mask,mask,mask),axis=2)\n",
    "            composite_image = output_image.copy()\n",
    "\n",
    "            composite_path = path_image.copy()\n",
    "            composite_image = composite_image*(mask) + composite_path*(1-mask)\n",
    "            alpha = composite_image[:,:,3]\n",
    "            alpha[(composite_image[:,:,3]> 0)] = 255\n",
    "            composite_image[:,:,3] = alpha\n",
    "            background = np.array(Image.open('./PNG/Backgrounds/blue_grass.png').resize(composite_path.shape[1::-1], Image.BILINEAR))\n",
    "\n",
    "            mask = (255-composite_image[:,:,-1]).reshape(mask.shape[0],mask.shape[1],1)/255.0\n",
    "            mask = np.concatenate((mask,mask,mask,mask),axis=2)\n",
    "            composite_image = background*mask +composite_image\n",
    "            print('writing to ',f'{file[:-5]}.png' )\n",
    "            imageio.imwrite(f'{file[:-5]}.png', composite_image[:,:,:3])\n",
    "            done.add(file)"
   ]
  },
  {
   "cell_type": "code",
   "execution_count": null,
   "metadata": {},
   "outputs": [],
   "source": []
  }
 ],
 "metadata": {
  "kernelspec": {
   "display_name": "Python 3",
   "language": "python",
   "name": "python3"
  },
  "language_info": {
   "codemirror_mode": {
    "name": "ipython",
    "version": 3
   },
   "file_extension": ".py",
   "mimetype": "text/x-python",
   "name": "python",
   "nbconvert_exporter": "python",
   "pygments_lexer": "ipython3",
   "version": "3.7.0"
  }
 },
 "nbformat": 4,
 "nbformat_minor": 2
}
