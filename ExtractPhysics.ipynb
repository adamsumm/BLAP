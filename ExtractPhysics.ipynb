{
 "cells": [
  {
   "cell_type": "code",
   "execution_count": 128,
   "metadata": {},
   "outputs": [],
   "source": [
    "\n",
    "solid = 'X<>||#?SQ'\n",
    "\n",
    "all_levels = ['mario-1-1.txt_0',\n",
    "              'mario-1-1.txt_1',\n",
    "              'mario-1-1.txt_10',\n",
    "              'mario-1-1.txt_11',\n",
    "              'mario-1-1.txt_12',\n",
    "              'mario-1-1.txt_13',\n",
    "              'mario-1-1.txt_14',\n",
    "              'mario-1-1.txt_15',\n",
    "              'mario-1-1.txt_16',\n",
    "              'mario-1-1.txt_17',\n",
    "              'mario-1-1.txt_18',\n",
    "              'mario-1-1.txt_19',\n",
    "              'mario-1-1.txt_2',\n",
    "              'mario-1-1.txt_20',\n",
    "              'mario-1-1.txt_21',\n",
    "              'mario-1-1.txt_22',\n",
    "              'mario-1-1.txt_23',\n",
    "              'mario-1-1.txt_24',\n",
    "              'mario-1-1.txt_25',\n",
    "              'mario-1-1.txt_26',\n",
    "              'mario-1-1.txt_27',\n",
    "              'mario-1-1.txt_28',\n",
    "              'mario-1-1.txt_29',\n",
    "              'mario-1-1.txt_3',\n",
    "              'mario-1-1.txt_4',\n",
    "              'mario-1-1.txt_5',\n",
    "              'mario-1-1.txt_6',\n",
    "              'mario-1-1.txt_7',\n",
    "              'mario-1-1.txt_8',\n",
    "              'mario-1-1.txt_9']"
   ]
  },
  {
   "cell_type": "code",
   "execution_count": 129,
   "metadata": {},
   "outputs": [],
   "source": [
    "\n",
    "jumps = []\n",
    "falls = []\n",
    "\n",
    "\n",
    "for filename in all_levels:\n",
    "\n",
    "    filename = 'SMB_TestData/' + filename\n",
    "    level = []\n",
    "    with open(filename) as infile:\n",
    "        for line in infile:\n",
    "            level.append(line.rstrip())\n",
    "    level_ = list(reversed(level))\n",
    "    width = len(level[0])\n",
    "    height = len(level)\n",
    "\n",
    "    start = None\n",
    "    for x in range(width):\n",
    "        previous_solid = False\n",
    "        for y in range(height):\n",
    "            if level_[y][x] == '*' and previous_solid:\n",
    "                start = (x,y)\n",
    "            elif level_[y][x] in solid:\n",
    "                previous_solid = True\n",
    "            else:\n",
    "                previous_solid = False\n",
    "            if start:\n",
    "                break\n",
    "        if start:\n",
    "            break\n",
    "\n",
    "    prev_y = start[1]\n",
    "    prev_on_ground = True\n",
    "    path_snippets = []\n",
    "\n",
    "    for x in range(start[0]+1,width):\n",
    "        player_locations = []\n",
    "\n",
    "        for y in range(height):\n",
    "            if level_[y][x] == '*':\n",
    "                player_locations.append((x,y))\n",
    "        current_y = player_locations[-1][1]\n",
    "        current_on_ground = level_[current_y-1][x] in solid\n",
    "\n",
    "\n",
    "        if len(player_locations) > 1:\n",
    "            if prev_on_ground and not current_on_ground:\n",
    "                path_snippets.append((x-1,prev_y))\n",
    "            path_snippets += player_locations\n",
    "            prev_y = current_y\n",
    "            prev_on_ground = current_on_ground\n",
    "\n",
    "        elif current_on_ground and not prev_on_ground:\n",
    "            path_snippets.append((x,current_y))\n",
    "        elif prev_on_ground and not current_on_ground:\n",
    "            path_snippets.append((x-1,prev_y))\n",
    "            path_snippets.append((x,current_y))\n",
    "        elif not prev_on_ground and not current_on_ground:\n",
    "            path_snippets.append((x,current_y))\n",
    "        prev_y = current_y\n",
    "        prev_on_ground = current_on_ground\n",
    "\n",
    "\n",
    "    px = -100\n",
    "    py = -100\n",
    "    falling = False\n",
    "    snippet = []\n",
    "    snippets = []\n",
    "    for p in path_snippets:\n",
    "\n",
    "        if p[0] - px > 1:\n",
    "            if snippet:\n",
    "                snippets.append(snippet)\n",
    "            snippet = []\n",
    "            falling = False\n",
    "        if falling and p[1] > py:\n",
    "            if snippet:\n",
    "                snippets.append(snippet)\n",
    "            snippet = []\n",
    "            falling = False\n",
    "\n",
    "        if snippet and p[1] < py:\n",
    "            falling = True\n",
    "\n",
    "        if level_[p[1]-1][p[0]] in solid:\n",
    "            if snippet:\n",
    "                snippets.append(snippet)\n",
    "            snippet = []\n",
    "            falling = False\n",
    "\n",
    "        snippet.append(p)\n",
    "        px = p[0]\n",
    "        py = p[1]\n",
    "\n",
    "    merged_snippets = []\n",
    "    merge_with_next = []\n",
    "    for snippet in snippets:\n",
    "        if len(snippet) == 1:\n",
    "            if len(merged_snippets) > 0:\n",
    "                if abs(snippet[0][0] - merged_snippets[-1][-1][0]) <= 1:\n",
    "                    merged_snippets[-1] += snippet\n",
    "            merge_with_next = snippet\n",
    "        else:\n",
    "            merged_snippets.append(snippet )\n",
    "            merge_with_next = []\n",
    "\n",
    "    for snippet in merged_snippets:\n",
    "        dy = 0\n",
    "        prev = snippet[0]\n",
    "        falling = False\n",
    "        jump = []\n",
    "        fall = []\n",
    "        for pt in snippet:\n",
    "            if pt[1] < py:\n",
    "                falling = True\n",
    "                fall.append(prev)\n",
    "            if falling:\n",
    "                fall.append(pt)\n",
    "            else:\n",
    "                jump.append(pt)\n",
    "            py = pt[1]\n",
    "            prev = pt\n",
    "        jumps.append(jump)\n",
    "        falls.append(fall)\n",
    "    "
   ]
  },
  {
   "cell_type": "code",
   "execution_count": 130,
   "metadata": {},
   "outputs": [
    {
     "name": "stdout",
     "output_type": "stream",
     "text": [
      "[[(37, 1), (37, 2), (37, 3), (38, 4)], [(39, 4), (40, 5), (40, 6), (41, 6), (41, 7), (42, 7), (42, 8), (43, 8)], [(53, 1), (54, 2), (54, 3), (55, 3), (55, 4), (56, 4), (56, 5), (57, 5)], [(68, 1), (69, 2), (69, 3), (70, 3)], [(85, 1), (86, 2), (86, 3), (87, 3)], [(137, 5), (138, 6), (138, 7), (139, 7)], [(152, 5), (153, 6), (153, 7), (154, 7)], [(161, 1), (162, 2), (162, 3), (163, 3)], [(177, 1), (178, 2), (178, 3), (179, 3)], [(37, 1), (37, 2), (37, 3), (38, 4)], [(39, 4), (40, 5), (40, 6), (41, 6), (41, 7), (42, 7), (42, 8), (43, 8)], [(53, 1), (54, 2), (54, 3), (55, 3), (55, 4), (56, 4), (56, 5), (57, 5)], [(68, 1), (69, 2), (69, 3), (70, 3)], [(85, 1), (86, 2), (86, 3), (87, 3)], [(137, 5), (138, 6), (138, 7), (139, 7)], [(152, 5), (153, 6), (153, 7), (154, 7)], [(161, 1), (162, 2), (162, 3), (163, 3)], [(177, 1), (178, 2), (178, 3), (179, 3)], [(37, 1), (37, 2), (37, 3), (38, 4)], [(39, 4), (40, 5), (40, 6), (41, 6), (41, 7), (42, 7), (42, 8), (43, 8)], [(53, 1), (54, 2), (54, 3), (55, 3), (55, 4), (56, 4), (56, 5), (57, 5)], [(68, 1), (69, 2), (69, 3), (70, 3)], [(85, 1), (86, 2), (86, 3), (87, 3)], [(137, 5), (138, 6), (138, 7), (139, 7)], [(152, 5), (153, 6), (153, 7), (154, 7)], [(161, 1), (162, 2), (162, 3), (163, 3)], [(177, 1), (178, 2), (178, 3), (179, 3)], [(37, 1), (37, 2), (37, 3), (38, 4)], [(39, 4), (40, 5), (40, 6), (41, 6), (41, 7), (42, 7), (42, 8), (43, 8)], [(53, 1), (54, 2), (54, 3), (55, 3), (55, 4), (56, 4), (56, 5), (57, 5)], [(68, 1), (69, 2), (69, 3), (70, 3)], [(85, 1), (86, 2), (86, 3), (87, 3)], [(137, 5), (138, 6), (138, 7), (139, 7)], [(152, 5), (153, 6), (153, 7), (154, 7)], [(161, 1), (162, 2), (162, 3), (163, 3)], [(177, 1), (178, 2), (178, 3), (179, 3)], [(37, 1), (37, 2), (37, 3), (38, 4)], [(39, 4), (40, 5), (40, 6), (41, 6), (41, 7), (42, 7), (42, 8), (43, 8)], [(53, 1), (54, 2), (54, 3), (55, 3), (55, 4), (56, 4), (56, 5), (57, 5)], [(68, 1), (69, 2), (69, 3), (70, 3)], [(85, 1), (86, 2), (86, 3), (87, 3)], [(137, 5), (138, 6), (138, 7), (139, 7)], [(152, 5), (153, 6), (153, 7), (154, 7)], [(161, 1), (162, 2), (162, 3), (163, 3)], [(177, 1), (178, 2), (178, 3), (179, 3)], [(37, 1), (37, 2), (37, 3), (38, 4)], [(39, 4), (40, 5), (40, 6), (41, 6), (41, 7), (42, 7), (42, 8), (43, 8)], [(53, 1), (54, 2), (54, 3), (55, 3), (55, 4), (56, 4), (56, 5), (57, 5)], [(68, 1), (69, 2), (69, 3), (70, 3)], [(85, 1), (86, 2), (86, 3), (87, 3)], [(137, 5), (138, 6), (138, 7), (139, 7)], [(152, 5), (153, 6), (153, 7), (154, 7)], [(161, 1), (162, 2), (162, 3), (163, 3)], [(177, 1), (178, 2), (178, 3), (179, 3)], [(37, 1), (37, 2), (37, 3), (38, 4)], [(39, 4), (40, 5), (40, 6), (41, 6), (41, 7), (42, 7), (42, 8), (43, 8)], [(53, 1), (54, 2), (54, 3), (55, 3), (55, 4), (56, 4), (56, 5), (57, 5)], [(68, 1), (69, 2), (69, 3), (70, 3)], [(85, 1), (86, 2), (86, 3), (87, 3)], [(137, 5), (138, 6), (138, 7), (139, 7)], [(152, 5), (153, 6), (153, 7), (154, 7)], [(161, 1), (162, 2), (162, 3), (163, 3)], [(177, 1), (178, 2), (178, 3), (179, 3)], [(37, 1), (37, 2), (37, 3), (38, 4)], [(39, 4), (40, 5), (40, 6), (41, 6), (41, 7), (42, 7), (42, 8), (43, 8)], [(53, 1), (54, 2), (54, 3), (55, 3), (55, 4), (56, 4), (56, 5), (57, 5)], [(68, 1), (69, 2), (69, 3), (70, 3)], [(85, 1), (86, 2), (86, 3), (87, 3)], [(137, 5), (138, 6), (138, 7), (139, 7)], [(152, 5), (153, 6), (153, 7), (154, 7)], [(161, 1), (162, 2), (162, 3), (163, 3)], [(177, 1), (178, 2), (178, 3), (179, 3)], [(37, 1), (37, 2), (37, 3), (38, 4)], [(39, 4), (40, 5), (40, 6), (41, 6), (41, 7), (42, 7), (42, 8), (43, 8)], [(53, 1), (54, 2), (54, 3), (55, 3), (55, 4), (56, 4), (56, 5), (57, 5)], [(68, 1), (69, 2), (69, 3), (70, 3)], [(85, 1), (86, 2), (86, 3), (87, 3)], [(137, 5), (138, 6), (138, 7), (139, 7)], [(152, 5), (153, 6), (153, 7), (154, 7)], [(161, 1), (162, 2), (162, 3), (163, 3)], [(177, 1), (178, 2), (178, 3), (179, 3)], [(37, 1), (37, 2), (37, 3), (38, 4)], [(39, 4), (40, 5), (40, 6), (41, 6), (41, 7), (42, 7), (42, 8), (43, 8)], [(53, 1), (54, 2), (54, 3), (55, 3), (55, 4), (56, 4), (56, 5), (57, 5)], [(68, 1), (69, 2), (69, 3), (70, 3)], [(85, 1), (86, 2), (86, 3), (87, 3)], [(137, 5), (138, 6), (138, 7), (139, 7)], [(152, 5), (153, 6), (153, 7), (154, 7)], [(161, 1), (162, 2), (162, 3), (163, 3)], [(177, 1), (178, 2), (178, 3), (179, 3)], [(37, 1), (37, 2), (37, 3), (38, 4)], [(39, 4), (40, 5), (40, 6), (41, 6), (41, 7), (42, 7), (42, 8), (43, 8)], [(53, 1), (54, 2), (54, 3), (55, 3), (55, 4), (56, 4), (56, 5), (57, 5)], [(68, 1), (69, 2), (69, 3), (70, 3)], [(85, 1), (86, 2), (86, 3), (87, 3)], [(137, 5), (138, 6), (138, 7), (139, 7)], [(152, 5), (153, 6), (153, 7), (154, 7)], [(161, 1), (162, 2), (162, 3), (163, 3)], [(177, 1), (178, 2), (178, 3), (179, 3)], [(37, 1), (37, 2), (37, 3), (38, 4)], [(39, 4), (40, 5), (40, 6), (41, 6), (41, 7), (42, 7), (42, 8), (43, 8)], [(53, 1), (54, 2), (54, 3), (55, 3), (55, 4), (56, 4), (56, 5), (57, 5)], [(68, 1), (69, 2), (69, 3), (70, 3)], [(85, 1), (86, 2), (86, 3), (87, 3)], [(137, 5), (138, 6), (138, 7), (139, 7)], [(152, 5), (153, 6), (153, 7), (154, 7)], [(161, 1), (162, 2), (162, 3), (163, 3)], [(177, 1), (178, 2), (178, 3), (179, 3)], [(37, 1), (37, 2), (37, 3), (38, 4)], [(39, 4), (40, 5), (40, 6), (41, 6), (41, 7), (42, 7), (42, 8), (43, 8)], [(53, 1), (54, 2), (54, 3), (55, 3), (55, 4), (56, 4), (56, 5), (57, 5)], [(68, 1), (69, 2), (69, 3), (70, 3)], [(85, 1), (86, 2), (86, 3), (87, 3)], [(137, 5), (138, 6), (138, 7), (139, 7)], [(152, 5), (153, 6), (153, 7), (154, 7)], [(161, 1), (162, 2), (162, 3), (163, 3)], [(177, 1), (178, 2), (178, 3), (179, 3)], [(37, 1), (37, 2), (37, 3), (38, 4)], [(39, 4), (40, 5), (40, 6), (41, 6), (41, 7), (42, 7), (42, 8), (43, 8)], [(53, 1), (54, 2), (54, 3), (55, 3), (55, 4), (56, 4), (56, 5), (57, 5)], [(68, 1), (69, 2), (69, 3), (70, 3)], [(85, 1), (86, 2), (86, 3), (87, 3)], [(137, 5), (138, 6), (138, 7), (139, 7)], [(152, 5), (153, 6), (153, 7), (154, 7)], [(161, 1), (162, 2), (162, 3), (163, 3)], [(177, 1), (178, 2), (178, 3), (179, 3)], [(37, 1), (37, 2), (37, 3), (38, 4)], [(39, 4), (40, 5), (40, 6), (41, 6), (41, 7), (42, 7), (42, 8), (43, 8)], [(53, 1), (54, 2), (54, 3), (55, 3), (55, 4), (56, 4), (56, 5), (57, 5)], [(68, 1), (69, 2), (69, 3), (70, 3)], [(85, 1), (86, 2), (86, 3), (87, 3)], [(137, 5), (138, 6), (138, 7), (139, 7)], [(152, 5), (153, 6), (153, 7), (154, 7)], [(161, 1), (162, 2), (162, 3), (163, 3)], [(177, 1), (178, 2), (178, 3), (179, 3)], [(37, 1), (37, 2), (37, 3), (38, 4)], [(39, 4), (40, 5), (40, 6), (41, 6), (41, 7), (42, 7), (42, 8), (43, 8)], [(53, 1), (54, 2), (54, 3), (55, 3), (55, 4), (56, 4), (56, 5), (57, 5)], [(68, 1), (69, 2), (69, 3), (70, 3)], [(85, 1), (86, 2), (86, 3), (87, 3)], [(137, 5), (138, 6), (138, 7), (139, 7)], [(152, 5), (153, 6), (153, 7), (154, 7)], [(161, 1), (162, 2), (162, 3), (163, 3)], [(177, 1), (178, 2), (178, 3), (179, 3)], [(37, 1), (37, 2), (37, 3), (38, 4)], [(39, 4), (40, 5), (40, 6), (41, 6), (41, 7), (42, 7), (42, 8), (43, 8)], [(53, 1), (54, 2), (54, 3), (55, 3), (55, 4), (56, 4), (56, 5), (57, 5)], [(68, 1), (69, 2), (69, 3), (70, 3)], [(85, 1), (86, 2), (86, 3), (87, 3)], [(137, 5), (138, 6), (138, 7), (139, 7)], [(152, 5), (153, 6), (153, 7), (154, 7)], [(161, 1), (162, 2), (162, 3), (163, 3)], [(177, 1), (178, 2), (178, 3), (179, 3)], [(37, 1), (37, 2), (37, 3), (38, 4)], [(39, 4), (40, 5), (40, 6), (41, 6), (41, 7), (42, 7), (42, 8), (43, 8)], [(53, 1), (54, 2), (54, 3), (55, 3), (55, 4), (56, 4), (56, 5), (57, 5)], [(68, 1), (69, 2), (69, 3), (70, 3)], [(85, 1), (86, 2), (86, 3), (87, 3)], [(137, 5), (138, 6), (138, 7), (139, 7)], [(152, 5), (153, 6), (153, 7), (154, 7)], [(161, 1), (162, 2), (162, 3), (163, 3)], [(177, 1), (178, 2), (178, 3), (179, 3)], [(37, 1), (37, 2), (37, 3), (38, 4)], [(39, 4), (40, 5), (40, 6), (41, 6), (41, 7), (42, 7), (42, 8), (43, 8)], [(53, 1), (54, 2), (54, 3), (55, 3), (55, 4), (56, 4), (56, 5), (57, 5)], [(68, 1), (69, 2), (69, 3), (70, 3)], [(85, 1), (86, 2), (86, 3), (87, 3)], [(137, 5), (138, 6), (138, 7), (139, 7)], [(152, 5), (153, 6), (153, 7), (154, 7)], [(161, 1), (162, 2), (162, 3), (163, 3)], [(177, 1), (178, 2), (178, 3), (179, 3)], [(37, 1), (37, 2), (37, 3), (38, 4)], [(39, 4), (40, 5), (40, 6), (41, 6), (41, 7), (42, 7), (42, 8), (43, 8)], [(53, 1), (54, 2), (54, 3), (55, 3), (55, 4), (56, 4), (56, 5), (57, 5)], [(68, 1), (69, 2), (69, 3), (70, 3)], [(85, 1), (86, 2), (86, 3), (87, 3)], [(137, 5), (138, 6), (138, 7), (139, 7)], [(152, 5), (153, 6), (153, 7), (154, 7)], [(161, 1), (162, 2), (162, 3), (163, 3)], [(177, 1), (178, 2), (178, 3), (179, 3)], [(37, 1), (37, 2), (37, 3), (38, 4)], [(39, 4), (40, 5), (40, 6), (41, 6), (41, 7), (42, 7), (42, 8), (43, 8)], [(53, 1), (54, 2), (54, 3), (55, 3), (55, 4), (56, 4), (56, 5), (57, 5)], [(68, 1), (69, 2), (69, 3), (70, 3)], [(85, 1), (86, 2), (86, 3), (87, 3)], [(137, 5), (138, 6), (138, 7), (139, 7)], [(152, 5), (153, 6), (153, 7), (154, 7)], [(161, 1), (162, 2), (162, 3), (163, 3)], [(177, 1), (178, 2), (178, 3), (179, 3)], [(37, 1), (37, 2), (37, 3), (38, 4)], [(39, 4), (40, 5), (40, 6), (41, 6), (41, 7), (42, 7), (42, 8), (43, 8)], [(53, 1), (54, 2), (54, 3), (55, 3), (55, 4), (56, 4), (56, 5), (57, 5)], [(68, 1), (69, 2), (69, 3), (70, 3)], [(85, 1), (86, 2), (86, 3), (87, 3)], [(137, 5), (138, 6), (138, 7), (139, 7)], [(152, 5), (153, 6), (153, 7), (154, 7)], [(161, 1), (162, 2), (162, 3), (163, 3)], [(177, 1), (178, 2), (178, 3), (179, 3)], [(37, 1), (37, 2), (37, 3), (38, 4)], [(39, 4), (40, 5), (40, 6), (41, 6), (41, 7), (42, 7), (42, 8), (43, 8)], [(53, 1), (54, 2), (54, 3), (55, 3), (55, 4), (56, 4), (56, 5), (57, 5)], [(68, 1), (69, 2), (69, 3), (70, 3)], [(85, 1), (86, 2), (86, 3), (87, 3)], [(137, 5), (138, 6), (138, 7), (139, 7)], [(152, 5), (153, 6), (153, 7), (154, 7)], [(161, 1), (162, 2), (162, 3), (163, 3)], [(177, 1), (178, 2), (178, 3), (179, 3)], [(26, 1), (27, 2), (27, 3), (28, 3)], [(37, 1), (37, 2), (37, 3), (38, 4)], [(39, 4), (40, 5), (40, 6), (41, 6), (41, 7), (42, 7), (42, 8), (43, 8)], [(53, 1), (54, 2), (54, 3), (55, 3), (55, 4), (56, 4), (56, 5), (57, 5)], [(68, 1), (69, 2), (69, 3), (70, 3)], [(85, 1), (86, 2), (86, 3), (87, 3)], [(137, 5), (138, 6), (138, 7), (139, 7)], [(152, 5), (153, 6), (153, 7), (154, 7)], [(161, 1), (162, 2), (162, 3), (163, 3)], [(177, 1), (178, 2), (178, 3), (179, 3)], [(26, 1), (27, 2), (27, 3), (28, 3)], [(37, 1), (37, 2), (37, 3), (38, 4)], [(39, 4), (40, 5), (40, 6), (41, 6), (41, 7), (42, 7), (42, 8), (43, 8)], [(53, 1), (54, 2), (54, 3), (55, 3), (55, 4), (56, 4), (56, 5), (57, 5)], [(68, 1), (69, 2), (69, 3), (70, 3)], [(85, 1), (86, 2), (86, 3), (87, 3)], [(137, 5), (138, 6), (138, 7), (139, 7)], [(152, 5), (153, 6), (153, 7), (154, 7)], [(161, 1), (162, 2), (162, 3), (163, 3)], [(177, 1), (178, 2), (178, 3), (179, 3)], [(37, 1), (37, 2), (37, 3), (38, 4)], [(39, 4), (40, 5), (40, 6), (41, 6), (41, 7), (42, 7), (42, 8), (43, 8)], [(53, 1), (54, 2), (54, 3), (55, 3), (55, 4), (56, 4), (56, 5), (57, 5)], [(68, 1), (69, 2), (69, 3), (70, 3)], [(85, 1), (86, 2), (86, 3), (87, 3)], [(137, 5), (138, 6), (138, 7), (139, 7)], [(152, 5), (153, 6), (153, 7), (154, 7)], [(161, 1), (162, 2), (162, 3), (163, 3)], [(177, 1), (178, 2), (178, 3), (179, 3)], [(37, 1), (37, 2), (37, 3), (38, 4)], [(39, 4), (40, 5), (40, 6), (41, 6), (41, 7), (42, 7), (42, 8), (43, 8)], [(53, 1), (54, 2), (54, 3), (55, 3), (55, 4), (56, 4), (56, 5), (57, 5)], [(68, 1), (69, 2), (69, 3), (70, 3)], [(85, 1), (86, 2), (86, 3), (87, 3)], [(137, 5), (138, 6), (138, 7), (139, 7)], [(152, 5), (153, 6), (153, 7), (154, 7)], [(161, 1), (162, 2), (162, 3), (163, 3)], [(177, 1), (178, 2), (178, 3), (179, 3)], [(37, 1), (37, 2), (37, 3), (38, 4)], [(39, 4), (40, 5), (40, 6), (41, 6), (41, 7), (42, 7), (42, 8), (43, 8)], [(53, 1), (54, 2), (54, 3), (55, 3), (55, 4), (56, 4), (56, 5), (57, 5)], [(68, 1), (69, 2), (69, 3), (70, 3)], [(85, 1), (86, 2), (86, 3), (87, 3)], [(137, 5), (138, 6), (138, 7), (139, 7)], [(152, 5), (153, 6), (153, 7), (154, 7)], [(161, 1), (162, 2), (162, 3), (163, 3)], [(177, 1), (178, 2), (178, 3), (179, 3)], [(37, 1), (37, 2), (37, 3), (38, 4)], [(39, 4), (40, 5), (40, 6), (41, 6), (41, 7), (42, 7), (42, 8), (43, 8)], [(53, 1), (54, 2), (54, 3), (55, 3), (55, 4), (56, 4), (56, 5), (57, 5)], [(68, 1), (69, 2), (69, 3), (70, 3)], [(85, 1), (86, 2), (86, 3), (87, 3)], [(137, 5), (138, 6), (138, 7), (139, 7)], [(152, 5), (153, 6), (153, 7), (154, 7)], [(161, 1), (162, 2), (162, 3), (163, 3)], [(177, 1), (178, 2), (178, 3), (179, 3)], [(37, 1), (37, 2), (37, 3), (38, 4)], [(39, 4), (40, 5), (40, 6), (41, 6), (41, 7), (42, 7), (42, 8), (43, 8)], [(53, 1), (54, 2), (54, 3), (55, 3), (55, 4), (56, 4), (56, 5), (57, 5)], [(68, 1), (69, 2), (69, 3), (70, 3)], [(85, 1), (86, 2), (86, 3), (87, 3)], [(137, 5), (138, 6), (138, 7), (139, 7)], [(152, 5), (153, 6), (153, 7), (154, 7)], [(161, 1), (162, 2), (162, 3), (163, 3)], [(177, 1), (178, 2), (178, 3), (179, 3)]]\n"
     ]
    }
   ],
   "source": [
    "jumps = [j for j in jumps if len(j) > 2]\n",
    "falls = [j for j in falls if len(j) > 2]\n",
    "print(jumps)"
   ]
  },
  {
   "cell_type": "code",
   "execution_count": 134,
   "metadata": {},
   "outputs": [
    {
     "data": {
      "image/png": "[encoded data removed]",
      "text/plain": [
       "<Figure size 432x288 with 1 Axes>"
      ]
     },
     "metadata": {
      "needs_background": "light"
     },
     "output_type": "display_data"
    },
    {
     "data": {
      "image/png": "[encoded data removed]",
      "text/plain": [
       "<Figure size 432x288 with 1 Axes>"
      ]
     },
     "metadata": {
      "needs_background": "light"
     },
     "output_type": "display_data"
    }
   ],
   "source": [
    "import matplotlib.pyplot as plt\n",
    "import numpy as np\n",
    "\n",
    "for snippet in jumps:\n",
    "    path = np.array(snippet)\n",
    "    path[:,0] -= path[0,0]\n",
    "    path[:,1] -= path[0,1]\n",
    "    plt.plot(path[:,0],path[:,1])\n",
    "plt.show()\n",
    "\n",
    "\n",
    "for snippet in falls:\n",
    "    path = np.array(snippet)\n",
    "    path[:,0] -= path[0,0]\n",
    "    path[:,1] -= path[0,1]\n",
    "    plt.plot(path[:,0],path[:,1])\n",
    "plt.show()"
   ]
  },
  {
   "cell_type": "code",
   "execution_count": 132,
   "metadata": {},
   "outputs": [],
   "source": [
    "import statsmodels.api as sm"
   ]
  },
  {
   "cell_type": "code",
   "execution_count": 142,
   "metadata": {},
   "outputs": [
    {
     "name": "stdout",
     "output_type": "stream",
     "text": [
      "[ 1.52484667 -0.13711021] [ 55.78654899 -14.26547203]\n"
     ]
    },
    {
     "data": {
      "image/png": "[encoded data removed]",
      "text/plain": [
       "<Figure size 432x288 with 1 Axes>"
      ]
     },
     "metadata": {
      "needs_background": "light"
     },
     "output_type": "display_data"
    },
    {
     "name": "stdout",
     "output_type": "stream",
     "text": [
      "[-0.13124125] [-104.18771382]\n"
     ]
    },
    {
     "data": {
      "image/png": "[encoded data removed]",
      "text/plain": [
       "<Figure size 432x288 with 1 Axes>"
      ]
     },
     "metadata": {
      "needs_background": "light"
     },
     "output_type": "display_data"
    }
   ],
   "source": [
    "jump_data = []\n",
    "for snippet in jumps:\n",
    "    path = np.array(snippet)\n",
    "    path[:,0] -= path[0,0]\n",
    "    path[:,1] -= path[0,1]\n",
    "    jump_data.append(path)\n",
    "jump_data = np.vstack(jump_data)\n",
    "jump_X = np.hstack([jump_data[:,0].reshape([-1,1]),jump_data[:,0].reshape([-1,1])**2])\n",
    "jump_Y = jump_data[:,1].reshape([-1,1])\n",
    "\n",
    "jump_model = sm.OLS(jump_Y,jump_X)\n",
    "jump_results = jump_model.fit()\n",
    "print(jump_results.params,jump_results.tvalues)\n",
    "plt.scatter(jump_X[:,0],jump_Y)\n",
    "plt.scatter(jump_X[:,0],np.dot(jump_X,jump_results.params))\n",
    "plt.show()\n",
    "\n",
    "fall_data = []\n",
    "for snippet in falls:\n",
    "    path = np.array(snippet)\n",
    "    path[:,0] -= path[0,0]\n",
    "    path[:,1] -= path[0,1]\n",
    "    fall_data.append(path)\n",
    "fall_data = np.vstack(fall_data)\n",
    "fall_X = fall_data[:,0].reshape([-1,1])**2\n",
    "fall_Y = fall_data[:,1].reshape([-1,1])\n",
    "\n",
    "fall_model = sm.OLS(fall_Y,fall_X)\n",
    "fall_results = fall_model.fit()\n",
    "print(fall_results.params,fall_results.tvalues)\n",
    "plt.scatter(fall_data[:,0],fall_Y)\n",
    "plt.scatter(fall_data[:,0],np.dot(fall_X,fall_results.params))\n",
    "plt.show()"
   ]
  },
  {
   "cell_type": "code",
   "execution_count": 140,
   "metadata": {},
   "outputs": [
    {
     "name": "stdout",
     "output_type": "stream",
     "text": [
      "81\n"
     ]
    }
   ],
   "source": []
  },
  {
   "cell_type": "code",
   "execution_count": null,
   "metadata": {},
   "outputs": [],
   "source": []
  }
 ],
 "metadata": {
  "kernelspec": {
   "display_name": "Python 3",
   "language": "python",
   "name": "python3"
  },
  "language_info": {
   "codemirror_mode": {
    "name": "ipython",
    "version": 3
   },
   "file_extension": ".py",
   "mimetype": "text/x-python",
   "name": "python",
   "nbconvert_exporter": "python",
   "pygments_lexer": "ipython3",
   "version": "3.7.4"
  }
 },
 "nbformat": 4,
 "nbformat_minor": 2
}
