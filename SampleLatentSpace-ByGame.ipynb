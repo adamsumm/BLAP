{
 "cells": [
  {
   "cell_type": "code",
   "execution_count": 3,
   "metadata": {},
   "outputs": [],
   "source": [
    "import torch\n",
    "import torch.nn as nn\n",
    "import torch.optim as optim\n",
    "import os\n",
    "os.environ['CUDA_VISIBLE_DEVICES']='0'\n",
    "device = 'cuda'"
   ]
  },
  {
   "cell_type": "code",
   "execution_count": 4,
   "metadata": {},
   "outputs": [],
   "source": [
    "segments = !ls processed/*txt"
   ]
  },
  {
   "cell_type": "code",
   "execution_count": 6,
   "metadata": {},
   "outputs": [],
   "source": [
    "# segments = []\n",
    "# with open('./sampled_files.txt') as infile:\n",
    "#     for line in infile:\n",
    "#         segments.append(line.rstrip())  \n",
    "levels = {}\n",
    "vocab = set([';','{'])\n",
    "for file in segments:\n",
    "    with open(file) as input_file:\n",
    "        level = []\n",
    "        for row in input_file:\n",
    "            level.append(list(row.rstrip()))\n",
    "            vocab |= set(row.rstrip())\n",
    "        levels[file] = level\n",
    "\n",
    "v2i = {v:i for i,v in enumerate(sorted(vocab))}\n",
    "i2v = {i:v for v,i in v2i.items()}\n",
    "\n",
    "\n",
    "t_levels = {}\n",
    "for file,level in levels.items():\n",
    "    t_level = []\n",
    "    for row in range(len(level[0])):\n",
    "        column = []\n",
    "        for col in range(len(level)):\n",
    "            column.append(level[col][row])\n",
    "        t_level.append(column)\n",
    "    t_levels[file] = t_level\n",
    "    \n",
    "chunks = {}\n",
    "for file,level in t_levels.items():\n",
    "    chunk = level\n",
    "    chunk = [''.join(c) for c in chunk]\n",
    "    chunks[file] = ';'.join(chunk)\n",
    "    \n",
    "chunks_by_game = {}\n",
    "for name,chunk in chunks.items():\n",
    "    name = name.split('/')[1]\n",
    "    game = name.split('_')[0]\n",
    "    id = name.split('_')[1].split('.')[0]\n",
    "    if game not in chunks_by_game:\n",
    "        chunks_by_game[game] = []\n",
    "    chunks_by_game[game].append((name,chunk)) \n",
    "    \n",
    "    \n",
    "class RNNVAE(nn.Module):\n",
    "    def __init__(self,e_layers,d_layers,\n",
    "                 dropout,vocab_size,\n",
    "                 enc_size,\n",
    "                 dec_size,latent_size,\n",
    "                 rnn_type):\n",
    "        super(RNNVAE, self).__init__()\n",
    "        self.latent_dim = latent_size\n",
    "        self.enc_size = enc_size\n",
    "        self.dec_size = dec_size\n",
    "        self.rnn_type = rnn_type\n",
    "        self.embed = nn.Embedding(vocab_size,enc_size)\n",
    "        self.encoder = rnn_type(enc_size,hidden_size=enc_size,\n",
    "                              num_layers=e_layers,batch_first=True,\n",
    "                                dropout=dropout, bidirectional=True)\n",
    "        \n",
    "        self.to_mu = nn.Linear(enc_size*2,latent_size)\n",
    "        self.to_logvar = nn.Linear(enc_size*2,latent_size)\n",
    "        self.latent_to_h = nn.Linear(latent_size,dec_size*d_layers)\n",
    "        self.latent_to_c = nn.Linear(latent_size,dec_size*d_layers)\n",
    "        \n",
    "        self.decoder = rnn_type(enc_size,hidden_size=dec_size,\n",
    "                              num_layers=d_layers,dropout=dropout,\n",
    "                                batch_first=True,)\n",
    "        self.hidden_to_vocab = nn.Linear(dec_size,vocab_size)\n",
    "        self.CE = nn.CrossEntropyLoss()\n",
    "    def forward(self,input_sequence,start_tok):\n",
    "        \n",
    "        batch_size, seq_length = input_sequence.size(0), input_sequence.size(1)\n",
    "        device = input_sequence.device\n",
    "        embedded = self.embed(input_sequence)\n",
    "        out , _= self.encoder(embedded)\n",
    "        \n",
    "        f_enc = out[:,0,:out.size()[-1]//2]\n",
    "        r_enc = out[:,-1,out.size()[-1]//2:]\n",
    "        enc = torch.cat((f_enc,r_enc),dim=-1)\n",
    "        mu,logvar = self.to_mu(enc), self.to_logvar(enc)\n",
    "        \n",
    "        std = torch.exp(0.5 * logvar)\n",
    "        z = torch.randn([batch_size,self.latent_dim],device=device)\n",
    "        z = z * std + mu        \n",
    "        dec_h = self.latent_to_h(z)\n",
    "        dec_h = dec_h.view(batch_size,-1, self.dec_size).permute(1,0,2).contiguous()\n",
    "        dec_c = self.latent_to_c(z)\n",
    "        dec_c = dec_c.view(batch_size,-1, self.dec_size).permute(1,0,2).contiguous()\n",
    "\n",
    "        dec_inp = torch.cat((\n",
    "             self.embed(torch.ones(batch_size,1,dtype=torch.long,device=device)*start_tok),\n",
    "            embedded[:,:-1,:]),dim=1)        \n",
    "        if self.rnn_type == nn.LSTM:\n",
    "            dec_out, _ =self.decoder(dec_inp,(dec_h,dec_c))\n",
    "        else:\n",
    "            dec_out, _ =self.decoder(dec_inp,dec_h)\n",
    "            \n",
    "        dec_logit = self.hidden_to_vocab(dec_out)\n",
    "        \n",
    "        loss = self.CE(dec_logit.view(batch_size*seq_length,-1),input_sequence.view(-1))\n",
    "        KL_div =  -0.5 * torch.sum(1 + logvar - mu.pow(2) - logvar.exp())\n",
    "        return loss, KL_div, dec_logit\n",
    "\n",
    "e_layer = 3\n",
    "d_layer = 2\n",
    "e_size = 1024\n",
    "l_size = 32\n",
    "d_size = 256\n",
    "dropout = 0.5\n",
    "rnn_vae = RNNVAE(e_layer,d_layer,dropout,len(vocab),e_size,d_size,l_size,nn.GRU)    \n",
    "\n",
    "#rnn_vae = torch.load('rnn_vae.model')\n",
    "rnn_vae = torch.load(f'rnn_vaeEnc{e_layer}_{e_size}_Dec{d_layer}_{d_size}_Lat{l_size}.model').to(device)"
   ]
  },
  {
   "cell_type": "code",
   "execution_count": 7,
   "metadata": {},
   "outputs": [
    {
     "name": "stdout",
     "output_type": "stream",
     "text": [
      "torch.Size([64, 32])\n",
      "torch.Size([64, 32])\n",
      "torch.Size([64, 32])\n",
      "torch.Size([64, 32])\n",
      "torch.Size([64, 32])\n",
      "torch.Size([64, 32])\n",
      "torch.Size([64, 32])\n",
      "torch.Size([64, 32])\n",
      "torch.Size([64, 32])\n",
      "torch.Size([64, 32])\n",
      "torch.Size([64, 32])\n",
      "torch.Size([64, 32])\n",
      "Castlevania [ 0.01707221 -0.01652464 -0.0194303   0.00945669  0.42382361 -0.00404026\n",
      " -0.42969514 -0.0065122  -0.02015271  0.03167903 -0.00265478 -0.00621539\n",
      "  0.1128556   0.47075163  0.00724728  0.00889479 -0.01794927 -0.01081636\n",
      " -0.03825307 -0.00327929 -0.01683784  0.0259301  -0.00438694  0.00636846\n",
      "  0.02053011  0.0148983  -0.01217768 -0.0052169   0.00523324  0.0218586\n",
      "  0.02308716 -0.0172627 ] [0.13688072 0.18446312 0.12831418 0.10705415 0.64153839 0.1507374\n",
      " 0.48276748 0.08340481 0.19064415 0.25422082 0.11141176 0.1640694\n",
      " 0.67812377 0.95645235 0.09872758 0.11436307 0.1158734  0.14740439\n",
      " 0.12978379 0.18390042 0.13812709 0.1085588  0.13274312 0.16698904\n",
      " 0.18651132 0.15535131 0.92872657 0.11468113 0.21717444 0.14105462\n",
      " 0.09850695 0.12723852]\n",
      "torch.Size([64, 32])\n",
      "torch.Size([64, 32])\n",
      "torch.Size([64, 32])\n",
      "torch.Size([64, 32])\n",
      "torch.Size([64, 32])\n",
      "torch.Size([64, 32])\n",
      "torch.Size([64, 32])\n",
      "torch.Size([64, 32])\n",
      "torch.Size([64, 32])\n",
      "torch.Size([64, 32])\n",
      "torch.Size([64, 32])\n",
      "torch.Size([64, 32])\n",
      "torch.Size([64, 32])\n",
      "torch.Size([64, 32])\n",
      "torch.Size([64, 32])\n",
      "torch.Size([64, 32])\n",
      "torch.Size([64, 32])\n",
      "torch.Size([64, 32])\n",
      "torch.Size([64, 32])\n",
      "torch.Size([64, 32])\n",
      "torch.Size([64, 32])\n",
      "torch.Size([64, 32])\n",
      "torch.Size([64, 32])\n",
      "torch.Size([64, 32])\n",
      "torch.Size([64, 32])\n",
      "torch.Size([64, 32])\n",
      "torch.Size([64, 32])\n",
      "torch.Size([64, 32])\n",
      "torch.Size([64, 32])\n",
      "torch.Size([64, 32])\n",
      "torch.Size([64, 32])\n",
      "torch.Size([64, 32])\n",
      "torch.Size([64, 32])\n",
      "torch.Size([64, 32])\n",
      "torch.Size([64, 32])\n",
      "torch.Size([64, 32])\n",
      "torch.Size([64, 32])\n",
      "torch.Size([64, 32])\n",
      "torch.Size([64, 32])\n",
      "torch.Size([64, 32])\n",
      "torch.Size([64, 32])\n",
      "torch.Size([64, 32])\n",
      "torch.Size([64, 32])\n",
      "torch.Size([64, 32])\n",
      "torch.Size([64, 32])\n",
      "torch.Size([64, 32])\n",
      "torch.Size([64, 32])\n",
      "torch.Size([64, 32])\n",
      "torch.Size([64, 32])\n",
      "torch.Size([64, 32])\n",
      "torch.Size([64, 32])\n",
      "torch.Size([64, 32])\n",
      "torch.Size([64, 32])\n",
      "torch.Size([64, 32])\n",
      "torch.Size([64, 32])\n",
      "torch.Size([64, 32])\n",
      "torch.Size([64, 32])\n",
      "torch.Size([64, 32])\n",
      "torch.Size([64, 32])\n",
      "torch.Size([64, 32])\n",
      "torch.Size([64, 32])\n",
      "torch.Size([64, 32])\n",
      "torch.Size([64, 32])\n",
      "torch.Size([64, 32])\n",
      "torch.Size([64, 32])\n",
      "torch.Size([64, 32])\n",
      "torch.Size([64, 32])\n",
      "torch.Size([64, 32])\n",
      "torch.Size([64, 32])\n",
      "torch.Size([64, 32])\n",
      "torch.Size([64, 32])\n",
      "torch.Size([64, 32])\n",
      "torch.Size([64, 32])\n",
      "torch.Size([64, 32])\n",
      "torch.Size([64, 32])\n",
      "torch.Size([64, 32])\n",
      "torch.Size([64, 32])\n",
      "torch.Size([64, 32])\n",
      "torch.Size([64, 32])\n",
      "torch.Size([64, 32])\n",
      "torch.Size([64, 32])\n",
      "torch.Size([64, 32])\n",
      "torch.Size([64, 32])\n",
      "torch.Size([64, 32])\n",
      "torch.Size([64, 32])\n",
      "torch.Size([64, 32])\n",
      "torch.Size([64, 32])\n",
      "torch.Size([64, 32])\n",
      "torch.Size([64, 32])\n",
      "torch.Size([64, 32])\n",
      "torch.Size([64, 32])\n",
      "torch.Size([64, 32])\n",
      "torch.Size([64, 32])\n",
      "Mario [ 9.50567099e-03 -1.90322128e-02  7.15130181e-03 -8.53271401e-03\n",
      " -9.25484956e-01  2.17368931e-02 -2.67382425e-01  7.02478425e-03\n",
      "  1.43525891e-03  6.82490298e-02 -1.48523954e-02  7.58510125e-03\n",
      " -4.03039586e-02 -9.60056182e-01 -9.42034746e-04 -1.22877634e-02\n",
      " -5.03254669e-03  9.26668402e-03 -1.01178654e-03 -6.35197801e-03\n",
      " -3.01883815e-02  1.58760322e-02 -9.02779222e-03  1.62229401e-02\n",
      " -3.07503779e-02  1.26107275e-02 -2.97306032e-01 -2.40629082e-02\n",
      " -4.46329418e-03  9.86661782e-03 -1.74825047e-03 -1.64776399e-02] [0.07838756 0.13026343 0.08347507 0.05608864 0.60160527 0.11524806\n",
      " 0.37831643 0.07396729 0.09367994 0.15034473 0.08250356 0.10949327\n",
      " 0.58423707 0.76543043 0.07356062 0.07113855 0.06641148 0.08393509\n",
      " 0.07764141 0.10386891 0.08817483 0.07580319 0.0662413  0.10721133\n",
      " 0.08747158 0.10977958 0.70152781 0.07676145 0.12323497 0.09125462\n",
      " 0.08395744 0.06400084]\n",
      "torch.Size([64, 32])\n",
      "torch.Size([64, 32])\n",
      "torch.Size([64, 32])\n",
      "torch.Size([64, 32])\n",
      "torch.Size([64, 32])\n",
      "torch.Size([64, 32])\n",
      "torch.Size([64, 32])\n",
      "torch.Size([64, 32])\n",
      "torch.Size([64, 32])\n",
      "torch.Size([64, 32])\n",
      "torch.Size([64, 32])\n",
      "torch.Size([64, 32])\n",
      "torch.Size([64, 32])\n",
      "torch.Size([64, 32])\n",
      "MegaMan [-0.00750129  0.05401751  0.00277664  0.00718298 -0.1579962  -0.0585239\n",
      " -0.20108624 -0.00425922  0.03889751 -0.07128967 -0.00128372  0.02797903\n",
      " -0.06715713  0.21500593  0.01547887  0.0083339   0.01473911 -0.01655552\n",
      " -0.00171209  0.05348633  0.03784695 -0.03138972  0.02649469 -0.05344067\n",
      "  0.05714968 -0.05289739  0.53410896 -0.00260382  0.04773993  0.01754547\n",
      " -0.01474364  0.02303294] [0.1208401  0.20567384 0.10580273 0.09166112 0.59250652 0.16246193\n",
      " 0.59251564 0.08089187 0.11519239 0.25662418 0.10892271 0.15528584\n",
      " 0.72686284 0.84285692 0.10083797 0.09297359 0.09790791 0.13815775\n",
      " 0.11939494 0.12770736 0.13077386 0.1047662  0.11114334 0.12441966\n",
      " 0.18868542 0.12902716 0.89903802 0.0889182  0.18845682 0.13877398\n",
      " 0.0878641  0.10668656]\n",
      "torch.Size([64, 32])\n",
      "torch.Size([64, 32])\n",
      "torch.Size([64, 32])\n",
      "torch.Size([64, 32])\n",
      "torch.Size([64, 32])\n",
      "torch.Size([64, 32])\n",
      "torch.Size([64, 32])\n",
      "torch.Size([64, 32])\n",
      "torch.Size([64, 32])\n",
      "torch.Size([64, 32])\n",
      "torch.Size([64, 32])\n",
      "torch.Size([64, 32])\n",
      "torch.Size([64, 32])\n",
      "torch.Size([64, 32])\n",
      "torch.Size([64, 32])\n",
      "torch.Size([64, 32])\n",
      "torch.Size([64, 32])\n",
      "torch.Size([64, 32])\n",
      "torch.Size([64, 32])\n",
      "torch.Size([64, 32])\n",
      "torch.Size([64, 32])\n",
      "torch.Size([64, 32])\n",
      "torch.Size([64, 32])\n",
      "torch.Size([64, 32])\n",
      "torch.Size([64, 32])\n",
      "torch.Size([64, 32])\n",
      "torch.Size([64, 32])\n",
      "torch.Size([64, 32])\n",
      "Metroid [ 2.23070706e-02 -1.73176662e-03 -2.67363450e-03 -3.26871923e-04\n",
      "  6.39869391e-02  3.50221102e-02  1.21558812e+00  3.75289563e-02\n",
      " -3.75263465e-02 -4.89322065e-03  4.57491853e-03 -2.48536038e-02\n",
      "  4.07223907e-02  3.35530433e-01 -7.18947378e-03  1.43695871e-02\n",
      "  3.77029732e-03  3.15144413e-02  2.31863237e-02 -2.87259683e-02\n",
      " -2.10806280e-02 -9.21885631e-03 -2.66441527e-02  1.48643183e-02\n",
      " -4.47020583e-02  1.34890351e-02  5.37692294e-02 -2.83769887e-03\n",
      " -4.35199450e-02 -4.11752667e-02 -2.90470549e-04  1.58842695e-02] [0.18944947 0.18701147 0.11524383 0.12211277 0.51044333 0.1978751\n",
      " 0.4271069  0.12079317 0.1749283  0.2511312  0.1757752  0.17955428\n",
      " 0.85096034 0.78702884 0.08073242 0.15816677 0.16836427 0.14723746\n",
      " 0.13170643 0.17445691 0.17797584 0.12965598 0.1889273  0.13742361\n",
      " 0.22736541 0.14867733 0.87534983 0.1176088  0.28463334 0.16109307\n",
      " 0.15564897 0.11855734]\n",
      "torch.Size([64, 32])\n",
      "torch.Size([64, 32])\n",
      "torch.Size([64, 32])\n",
      "torch.Size([64, 32])\n",
      "torch.Size([64, 32])\n",
      "torch.Size([64, 32])\n",
      "torch.Size([64, 32])\n",
      "torch.Size([64, 32])\n",
      "torch.Size([64, 32])\n",
      "torch.Size([64, 32])\n",
      "torch.Size([64, 32])\n",
      "torch.Size([64, 32])\n",
      "torch.Size([64, 32])\n",
      "torch.Size([64, 32])\n",
      "Ninja Gaiden [-1.18238001e-02 -1.77014708e-02  1.01717040e-04  1.11892313e-02\n",
      "  6.24503175e-01  1.50819184e-02 -5.26359281e-01 -3.47902239e-05\n",
      " -4.94261571e-03  3.38498701e-02 -6.20137686e-03 -2.01646972e-02\n",
      "  3.43561386e-02 -2.20688948e-02 -9.40028983e-03 -1.13662497e-02\n",
      "  1.10881047e-02 -7.49887158e-04  1.52798214e-02 -2.29362582e-02\n",
      " -1.15708100e-02  1.88989359e-02 -2.37402008e-02  2.61539138e-02\n",
      " -2.23872331e-02  2.20288120e-02 -1.77896515e-01 -5.72809262e-03\n",
      " -4.00935354e-02 -1.39993802e-02  3.37645278e-03  7.44136981e-03] [0.10544394 0.13607558 0.10390541 0.07223803 0.58032369 0.12467119\n",
      " 0.45546179 0.07016643 0.13210797 0.22206728 0.10073028 0.14763948\n",
      " 0.59180786 0.77841946 0.09782421 0.08777352 0.09493345 0.13434972\n",
      " 0.10774462 0.1442579  0.10740863 0.09424718 0.10250392 0.12270156\n",
      " 0.14399412 0.11805215 0.88526412 0.08302439 0.19332831 0.10737158\n",
      " 0.0696589  0.09689154]\n"
     ]
    }
   ],
   "source": [
    "def encode(self,input_sequence):\n",
    "        \n",
    "    batch_size, seq_length = input_sequence.size(0), input_sequence.size(1)\n",
    "    device = input_sequence.device\n",
    "    embedded1 = self.embed(input_sequence)\n",
    "    out1 , _= self.encoder(embedded1)\n",
    "\n",
    "    f_enc1 = out1[:,0,:out1.size()[-1]//2]\n",
    "    r_enc1 = out1[:,-1,out1.size()[-1]//2:]\n",
    "    enc1 = torch.cat((f_enc1,r_enc1),dim=-1)\n",
    "    return self.to_mu(enc1)\n",
    "\n",
    "vectors_by_game = {}\n",
    "for game in chunks_by_game:\n",
    "    all_vectors = []\n",
    "    batch_size = 64\n",
    "    with torch.no_grad():\n",
    "        sequences = []\n",
    "        for _,chunk in chunks_by_game[game]:\n",
    "            sequences.append([v2i[t] for t in chunk])\n",
    "            if len(sequences) == batch_size:\n",
    "                sequences = torch.tensor(sequences).to(device)\n",
    "                vectors = encode(rnn_vae,sequences)\n",
    "                print(vectors.size())\n",
    "                all_vectors += vectors.tolist()\n",
    "                sequences = []\n",
    "\n",
    "\n",
    "\n",
    "        sequences = torch.tensor(sequences).to(device)\n",
    "        vectors = encode(rnn_vae,sequences)\n",
    "        all_vectors += vectors.tolist()\n",
    "        sequences = []\n",
    "    \n",
    "    \n",
    "    import numpy as np\n",
    "\n",
    "    vecs = np.array(all_vectors)\n",
    "\n",
    "    vectors_by_game[game] = (np.mean(vecs,axis=0),np.std(vecs,axis=0),vecs)\n",
    "    print(game,np.mean(vecs,axis=0),np.std(vecs,axis=0))"
   ]
  },
  {
   "cell_type": "code",
   "execution_count": 4,
   "metadata": {},
   "outputs": [
    {
     "data": {
      "text/plain": [
       "<Figure size 640x480 with 1 Axes>"
      ]
     },
     "metadata": {},
     "output_type": "display_data"
    },
    {
     "data": {
      "text/plain": [
       "<Figure size 640x480 with 1 Axes>"
      ]
     },
     "metadata": {},
     "output_type": "display_data"
    },
    {
     "data": {
      "text/plain": [
       "<Figure size 640x480 with 1 Axes>"
      ]
     },
     "metadata": {},
     "output_type": "display_data"
    },
    {
     "data": {
      "text/plain": [
       "<Figure size 640x480 with 1 Axes>"
      ]
     },
     "metadata": {},
     "output_type": "display_data"
    },
    {
     "data": {
      "text/plain": [
       "<Figure size 640x480 with 1 Axes>"
      ]
     },
     "metadata": {},
     "output_type": "display_data"
    },
    {
     "data": {
      "text/plain": [
       "<Figure size 640x480 with 1 Axes>"
      ]
     },
     "metadata": {},
     "output_type": "display_data"
    },
    {
     "data": {
      "text/plain": [
       "<Figure size 640x480 with 1 Axes>"
      ]
     },
     "metadata": {},
     "output_type": "display_data"
    },
    {
     "data": {
      "text/plain": [
       "<Figure size 640x480 with 1 Axes>"
      ]
     },
     "metadata": {},
     "output_type": "display_data"
    },
    {
     "data": {
      "text/plain": [
       "<Figure size 640x480 with 1 Axes>"
      ]
     },
     "metadata": {},
     "output_type": "display_data"
    },
    {
     "data": {
      "text/plain": [
       "<Figure size 640x480 with 1 Axes>"
      ]
     },
     "metadata": {},
     "output_type": "display_data"
    },
    {
     "data": {
      "text/plain": [
       "<Figure size 640x480 with 1 Axes>"
      ]
     },
     "metadata": {},
     "output_type": "display_data"
    },
    {
     "data": {
      "text/plain": [
       "<Figure size 640x480 with 1 Axes>"
      ]
     },
     "metadata": {},
     "output_type": "display_data"
    },
    {
     "data": {
      "text/plain": [
       "<Figure size 640x480 with 1 Axes>"
      ]
     },
     "metadata": {},
     "output_type": "display_data"
    },
    {
     "data": {
      "text/plain": [
       "<Figure size 640x480 with 1 Axes>"
      ]
     },
     "metadata": {},
     "output_type": "display_data"
    },
    {
     "data": {
      "text/plain": [
       "<Figure size 640x480 with 1 Axes>"
      ]
     },
     "metadata": {},
     "output_type": "display_data"
    },
    {
     "data": {
      "text/plain": [
       "<Figure size 640x480 with 1 Axes>"
      ]
     },
     "metadata": {},
     "output_type": "display_data"
    },
    {
     "data": {
      "text/plain": [
       "<Figure size 640x480 with 1 Axes>"
      ]
     },
     "metadata": {},
     "output_type": "display_data"
    },
    {
     "data": {
      "text/plain": [
       "<Figure size 640x480 with 1 Axes>"
      ]
     },
     "metadata": {},
     "output_type": "display_data"
    },
    {
     "data": {
      "text/plain": [
       "<Figure size 640x480 with 1 Axes>"
      ]
     },
     "metadata": {},
     "output_type": "display_data"
    },
    {
     "data": {
      "text/plain": [
       "<Figure size 640x480 with 1 Axes>"
      ]
     },
     "metadata": {},
     "output_type": "display_data"
    },
    {
     "data": {
      "text/plain": [
       "<Figure size 640x480 with 1 Axes>"
      ]
     },
     "metadata": {},
     "output_type": "display_data"
    },
    {
     "data": {
      "text/plain": [
       "<Figure size 640x480 with 1 Axes>"
      ]
     },
     "metadata": {},
     "output_type": "display_data"
    },
    {
     "data": {
      "text/plain": [
       "<Figure size 640x480 with 1 Axes>"
      ]
     },
     "metadata": {},
     "output_type": "display_data"
    },
    {
     "data": {
      "text/plain": [
       "<Figure size 640x480 with 1 Axes>"
      ]
     },
     "metadata": {},
     "output_type": "display_data"
    },
    {
     "data": {
      "text/plain": [
       "<Figure size 640x480 with 1 Axes>"
      ]
     },
     "metadata": {},
     "output_type": "display_data"
    },
    {
     "data": {
      "text/plain": [
       "<Figure size 640x480 with 1 Axes>"
      ]
     },
     "metadata": {},
     "output_type": "display_data"
    },
    {
     "data": {
      "text/plain": [
       "<Figure size 640x480 with 1 Axes>"
      ]
     },
     "metadata": {},
     "output_type": "display_data"
    },
    {
     "data": {
      "text/plain": [
       "<Figure size 640x480 with 1 Axes>"
      ]
     },
     "metadata": {},
     "output_type": "display_data"
    },
    {
     "data": {
      "text/plain": [
       "<Figure size 640x480 with 1 Axes>"
      ]
     },
     "metadata": {},
     "output_type": "display_data"
    },
    {
     "data": {
      "text/plain": [
       "<Figure size 640x480 with 1 Axes>"
      ]
     },
     "metadata": {},
     "output_type": "display_data"
    },
    {
     "data": {
      "text/plain": [
       "<Figure size 640x480 with 1 Axes>"
      ]
     },
     "metadata": {},
     "output_type": "display_data"
    },
    {
     "data": {
      "text/plain": [
       "<Figure size 640x480 with 1 Axes>"
      ]
     },
     "metadata": {},
     "output_type": "display_data"
    },
    {
     "data": {
      "text/plain": [
       "<Figure size 640x480 with 1 Axes>"
      ]
     },
     "metadata": {},
     "output_type": "display_data"
    },
    {
     "data": {
      "text/plain": [
       "<Figure size 640x480 with 1 Axes>"
      ]
     },
     "metadata": {},
     "output_type": "display_data"
    },
    {
     "data": {
      "text/plain": [
       "<Figure size 640x480 with 1 Axes>"
      ]
     },
     "metadata": {},
     "output_type": "display_data"
    },
    {
     "data": {
      "text/plain": [
       "<Figure size 640x480 with 1 Axes>"
      ]
     },
     "metadata": {},
     "output_type": "display_data"
    },
    {
     "data": {
      "text/plain": [
       "<Figure size 640x480 with 1 Axes>"
      ]
     },
     "metadata": {},
     "output_type": "display_data"
    },
    {
     "data": {
      "text/plain": [
       "<Figure size 640x480 with 1 Axes>"
      ]
     },
     "metadata": {},
     "output_type": "display_data"
    },
    {
     "data": {
      "text/plain": [
       "<Figure size 640x480 with 1 Axes>"
      ]
     },
     "metadata": {},
     "output_type": "display_data"
    },
    {
     "data": {
      "text/plain": [
       "<Figure size 640x480 with 1 Axes>"
      ]
     },
     "metadata": {},
     "output_type": "display_data"
    },
    {
     "data": {
      "text/plain": [
       "<Figure size 640x480 with 1 Axes>"
      ]
     },
     "metadata": {},
     "output_type": "display_data"
    },
    {
     "data": {
      "text/plain": [
       "<Figure size 640x480 with 1 Axes>"
      ]
     },
     "metadata": {},
     "output_type": "display_data"
    },
    {
     "data": {
      "text/plain": [
       "<Figure size 640x480 with 1 Axes>"
      ]
     },
     "metadata": {},
     "output_type": "display_data"
    },
    {
     "data": {
      "text/plain": [
       "<Figure size 640x480 with 1 Axes>"
      ]
     },
     "metadata": {},
     "output_type": "display_data"
    },
    {
     "data": {
      "text/plain": [
       "<Figure size 640x480 with 1 Axes>"
      ]
     },
     "metadata": {},
     "output_type": "display_data"
    },
    {
     "data": {
      "text/plain": [
       "<Figure size 640x480 with 1 Axes>"
      ]
     },
     "metadata": {},
     "output_type": "display_data"
    },
    {
     "data": {
      "text/plain": [
       "<Figure size 640x480 with 1 Axes>"
      ]
     },
     "metadata": {},
     "output_type": "display_data"
    },
    {
     "data": {
      "text/plain": [
       "<Figure size 640x480 with 1 Axes>"
      ]
     },
     "metadata": {},
     "output_type": "display_data"
    },
    {
     "data": {
      "text/plain": [
       "<Figure size 640x480 with 1 Axes>"
      ]
     },
     "metadata": {},
     "output_type": "display_data"
    },
    {
     "data": {
      "text/plain": [
       "<Figure size 640x480 with 1 Axes>"
      ]
     },
     "metadata": {},
     "output_type": "display_data"
    },
    {
     "data": {
      "text/plain": [
       "<Figure size 640x480 with 1 Axes>"
      ]
     },
     "metadata": {},
     "output_type": "display_data"
    },
    {
     "data": {
      "text/plain": [
       "<Figure size 640x480 with 1 Axes>"
      ]
     },
     "metadata": {},
     "output_type": "display_data"
    },
    {
     "data": {
      "text/plain": [
       "<Figure size 640x480 with 1 Axes>"
      ]
     },
     "metadata": {},
     "output_type": "display_data"
    },
    {
     "data": {
      "text/plain": [
       "<Figure size 640x480 with 1 Axes>"
      ]
     },
     "metadata": {},
     "output_type": "display_data"
    },
    {
     "data": {
      "text/plain": [
       "<Figure size 640x480 with 1 Axes>"
      ]
     },
     "metadata": {},
     "output_type": "display_data"
    },
    {
     "data": {
      "text/plain": [
       "<Figure size 640x480 with 1 Axes>"
      ]
     },
     "metadata": {},
     "output_type": "display_data"
    },
    {
     "data": {
      "text/plain": [
       "<Figure size 640x480 with 1 Axes>"
      ]
     },
     "metadata": {},
     "output_type": "display_data"
    },
    {
     "data": {
      "text/plain": [
       "<Figure size 640x480 with 1 Axes>"
      ]
     },
     "metadata": {},
     "output_type": "display_data"
    },
    {
     "data": {
      "text/plain": [
       "<Figure size 640x480 with 1 Axes>"
      ]
     },
     "metadata": {},
     "output_type": "display_data"
    },
    {
     "data": {
      "text/plain": [
       "<Figure size 640x480 with 1 Axes>"
      ]
     },
     "metadata": {},
     "output_type": "display_data"
    },
    {
     "data": {
      "text/plain": [
       "<Figure size 640x480 with 1 Axes>"
      ]
     },
     "metadata": {},
     "output_type": "display_data"
    },
    {
     "data": {
      "text/plain": [
       "<Figure size 640x480 with 1 Axes>"
      ]
     },
     "metadata": {},
     "output_type": "display_data"
    },
    {
     "data": {
      "text/plain": [
       "<Figure size 640x480 with 1 Axes>"
      ]
     },
     "metadata": {},
     "output_type": "display_data"
    },
    {
     "data": {
      "text/plain": [
       "<Figure size 640x480 with 1 Axes>"
      ]
     },
     "metadata": {},
     "output_type": "display_data"
    },
    {
     "data": {
      "text/plain": [
       "<Figure size 640x480 with 1 Axes>"
      ]
     },
     "metadata": {},
     "output_type": "display_data"
    },
    {
     "data": {
      "text/plain": [
       "<Figure size 640x480 with 1 Axes>"
      ]
     },
     "metadata": {},
     "output_type": "display_data"
    },
    {
     "data": {
      "text/plain": [
       "<Figure size 640x480 with 1 Axes>"
      ]
     },
     "metadata": {},
     "output_type": "display_data"
    },
    {
     "data": {
      "text/plain": [
       "<Figure size 640x480 with 1 Axes>"
      ]
     },
     "metadata": {},
     "output_type": "display_data"
    },
    {
     "data": {
      "text/plain": [
       "<Figure size 640x480 with 1 Axes>"
      ]
     },
     "metadata": {},
     "output_type": "display_data"
    },
    {
     "data": {
      "text/plain": [
       "<Figure size 640x480 with 1 Axes>"
      ]
     },
     "metadata": {},
     "output_type": "display_data"
    },
    {
     "data": {
      "text/plain": [
       "<Figure size 640x480 with 1 Axes>"
      ]
     },
     "metadata": {},
     "output_type": "display_data"
    },
    {
     "data": {
      "text/plain": [
       "<Figure size 640x480 with 1 Axes>"
      ]
     },
     "metadata": {},
     "output_type": "display_data"
    },
    {
     "data": {
      "text/plain": [
       "<Figure size 640x480 with 1 Axes>"
      ]
     },
     "metadata": {},
     "output_type": "display_data"
    },
    {
     "data": {
      "text/plain": [
       "<Figure size 640x480 with 1 Axes>"
      ]
     },
     "metadata": {},
     "output_type": "display_data"
    },
    {
     "data": {
      "text/plain": [
       "<Figure size 640x480 with 1 Axes>"
      ]
     },
     "metadata": {},
     "output_type": "display_data"
    },
    {
     "data": {
      "text/plain": [
       "<Figure size 640x480 with 1 Axes>"
      ]
     },
     "metadata": {},
     "output_type": "display_data"
    },
    {
     "data": {
      "text/plain": [
       "<Figure size 640x480 with 1 Axes>"
      ]
     },
     "metadata": {},
     "output_type": "display_data"
    },
    {
     "data": {
      "text/plain": [
       "<Figure size 640x480 with 1 Axes>"
      ]
     },
     "metadata": {},
     "output_type": "display_data"
    },
    {
     "data": {
      "text/plain": [
       "<Figure size 640x480 with 1 Axes>"
      ]
     },
     "metadata": {},
     "output_type": "display_data"
    },
    {
     "data": {
      "text/plain": [
       "<Figure size 640x480 with 1 Axes>"
      ]
     },
     "metadata": {},
     "output_type": "display_data"
    },
    {
     "data": {
      "text/plain": [
       "<Figure size 640x480 with 1 Axes>"
      ]
     },
     "metadata": {},
     "output_type": "display_data"
    },
    {
     "data": {
      "text/plain": [
       "<Figure size 640x480 with 1 Axes>"
      ]
     },
     "metadata": {},
     "output_type": "display_data"
    },
    {
     "data": {
      "text/plain": [
       "<Figure size 640x480 with 1 Axes>"
      ]
     },
     "metadata": {},
     "output_type": "display_data"
    },
    {
     "data": {
      "text/plain": [
       "<Figure size 640x480 with 1 Axes>"
      ]
     },
     "metadata": {},
     "output_type": "display_data"
    },
    {
     "data": {
      "text/plain": [
       "<Figure size 640x480 with 1 Axes>"
      ]
     },
     "metadata": {},
     "output_type": "display_data"
    },
    {
     "data": {
      "text/plain": [
       "<Figure size 640x480 with 1 Axes>"
      ]
     },
     "metadata": {},
     "output_type": "display_data"
    },
    {
     "data": {
      "text/plain": [
       "<Figure size 640x480 with 1 Axes>"
      ]
     },
     "metadata": {},
     "output_type": "display_data"
    },
    {
     "data": {
      "text/plain": [
       "<Figure size 640x480 with 1 Axes>"
      ]
     },
     "metadata": {},
     "output_type": "display_data"
    },
    {
     "data": {
      "text/plain": [
       "<Figure size 640x480 with 1 Axes>"
      ]
     },
     "metadata": {},
     "output_type": "display_data"
    },
    {
     "data": {
      "text/plain": [
       "<Figure size 640x480 with 1 Axes>"
      ]
     },
     "metadata": {},
     "output_type": "display_data"
    },
    {
     "data": {
      "text/plain": [
       "<Figure size 640x480 with 1 Axes>"
      ]
     },
     "metadata": {},
     "output_type": "display_data"
    },
    {
     "data": {
      "text/plain": [
       "<Figure size 640x480 with 1 Axes>"
      ]
     },
     "metadata": {},
     "output_type": "display_data"
    },
    {
     "data": {
      "text/plain": [
       "<Figure size 640x480 with 1 Axes>"
      ]
     },
     "metadata": {},
     "output_type": "display_data"
    },
    {
     "data": {
      "text/plain": [
       "<Figure size 640x480 with 1 Axes>"
      ]
     },
     "metadata": {},
     "output_type": "display_data"
    },
    {
     "data": {
      "text/plain": [
       "<Figure size 640x480 with 1 Axes>"
      ]
     },
     "metadata": {},
     "output_type": "display_data"
    },
    {
     "data": {
      "text/plain": [
       "<Figure size 640x480 with 1 Axes>"
      ]
     },
     "metadata": {},
     "output_type": "display_data"
    },
    {
     "data": {
      "text/plain": [
       "<Figure size 640x480 with 1 Axes>"
      ]
     },
     "metadata": {},
     "output_type": "display_data"
    },
    {
     "data": {
      "text/plain": [
       "<Figure size 640x480 with 1 Axes>"
      ]
     },
     "metadata": {},
     "output_type": "display_data"
    },
    {
     "data": {
      "text/plain": [
       "<Figure size 640x480 with 1 Axes>"
      ]
     },
     "metadata": {},
     "output_type": "display_data"
    },
    {
     "data": {
      "text/plain": [
       "<Figure size 640x480 with 1 Axes>"
      ]
     },
     "metadata": {},
     "output_type": "display_data"
    },
    {
     "data": {
      "text/plain": [
       "<Figure size 640x480 with 1 Axes>"
      ]
     },
     "metadata": {},
     "output_type": "display_data"
    },
    {
     "data": {
      "text/plain": [
       "<Figure size 640x480 with 1 Axes>"
      ]
     },
     "metadata": {},
     "output_type": "display_data"
    },
    {
     "data": {
      "text/plain": [
       "<Figure size 640x480 with 1 Axes>"
      ]
     },
     "metadata": {},
     "output_type": "display_data"
    },
    {
     "data": {
      "text/plain": [
       "<Figure size 640x480 with 1 Axes>"
      ]
     },
     "metadata": {},
     "output_type": "display_data"
    },
    {
     "data": {
      "text/plain": [
       "<Figure size 640x480 with 1 Axes>"
      ]
     },
     "metadata": {},
     "output_type": "display_data"
    },
    {
     "data": {
      "text/plain": [
       "<Figure size 640x480 with 1 Axes>"
      ]
     },
     "metadata": {},
     "output_type": "display_data"
    },
    {
     "data": {
      "text/plain": [
       "<Figure size 640x480 with 1 Axes>"
      ]
     },
     "metadata": {},
     "output_type": "display_data"
    },
    {
     "data": {
      "text/plain": [
       "<Figure size 640x480 with 1 Axes>"
      ]
     },
     "metadata": {},
     "output_type": "display_data"
    },
    {
     "data": {
      "text/plain": [
       "<Figure size 640x480 with 1 Axes>"
      ]
     },
     "metadata": {},
     "output_type": "display_data"
    },
    {
     "data": {
      "text/plain": [
       "<Figure size 640x480 with 1 Axes>"
      ]
     },
     "metadata": {},
     "output_type": "display_data"
    },
    {
     "data": {
      "text/plain": [
       "<Figure size 640x480 with 1 Axes>"
      ]
     },
     "metadata": {},
     "output_type": "display_data"
    },
    {
     "data": {
      "text/plain": [
       "<Figure size 640x480 with 1 Axes>"
      ]
     },
     "metadata": {},
     "output_type": "display_data"
    },
    {
     "data": {
      "text/plain": [
       "<Figure size 640x480 with 1 Axes>"
      ]
     },
     "metadata": {},
     "output_type": "display_data"
    },
    {
     "data": {
      "text/plain": [
       "<Figure size 640x480 with 1 Axes>"
      ]
     },
     "metadata": {},
     "output_type": "display_data"
    },
    {
     "data": {
      "text/plain": [
       "<Figure size 640x480 with 1 Axes>"
      ]
     },
     "metadata": {},
     "output_type": "display_data"
    },
    {
     "data": {
      "text/plain": [
       "<Figure size 640x480 with 1 Axes>"
      ]
     },
     "metadata": {},
     "output_type": "display_data"
    },
    {
     "data": {
      "text/plain": [
       "<Figure size 640x480 with 1 Axes>"
      ]
     },
     "metadata": {},
     "output_type": "display_data"
    },
    {
     "data": {
      "text/plain": [
       "<Figure size 640x480 with 1 Axes>"
      ]
     },
     "metadata": {},
     "output_type": "display_data"
    },
    {
     "data": {
      "text/plain": [
       "<Figure size 640x480 with 1 Axes>"
      ]
     },
     "metadata": {},
     "output_type": "display_data"
    },
    {
     "data": {
      "text/plain": [
       "<Figure size 640x480 with 1 Axes>"
      ]
     },
     "metadata": {},
     "output_type": "display_data"
    },
    {
     "data": {
      "text/plain": [
       "<Figure size 640x480 with 1 Axes>"
      ]
     },
     "metadata": {},
     "output_type": "display_data"
    },
    {
     "data": {
      "text/plain": [
       "<Figure size 640x480 with 1 Axes>"
      ]
     },
     "metadata": {},
     "output_type": "display_data"
    },
    {
     "data": {
      "text/plain": [
       "<Figure size 640x480 with 1 Axes>"
      ]
     },
     "metadata": {},
     "output_type": "display_data"
    },
    {
     "data": {
      "text/plain": [
       "<Figure size 640x480 with 1 Axes>"
      ]
     },
     "metadata": {},
     "output_type": "display_data"
    },
    {
     "data": {
      "text/plain": [
       "<Figure size 640x480 with 1 Axes>"
      ]
     },
     "metadata": {},
     "output_type": "display_data"
    },
    {
     "data": {
      "text/plain": [
       "<Figure size 640x480 with 1 Axes>"
      ]
     },
     "metadata": {},
     "output_type": "display_data"
    },
    {
     "data": {
      "text/plain": [
       "<Figure size 640x480 with 1 Axes>"
      ]
     },
     "metadata": {},
     "output_type": "display_data"
    },
    {
     "data": {
      "text/plain": [
       "<Figure size 640x480 with 1 Axes>"
      ]
     },
     "metadata": {},
     "output_type": "display_data"
    },
    {
     "data": {
      "text/plain": [
       "<Figure size 640x480 with 1 Axes>"
      ]
     },
     "metadata": {},
     "output_type": "display_data"
    },
    {
     "data": {
      "text/plain": [
       "<Figure size 640x480 with 1 Axes>"
      ]
     },
     "metadata": {},
     "output_type": "display_data"
    },
    {
     "data": {
      "text/plain": [
       "<Figure size 640x480 with 1 Axes>"
      ]
     },
     "metadata": {},
     "output_type": "display_data"
    },
    {
     "data": {
      "text/plain": [
       "<Figure size 640x480 with 1 Axes>"
      ]
     },
     "metadata": {},
     "output_type": "display_data"
    },
    {
     "data": {
      "text/plain": [
       "<Figure size 640x480 with 1 Axes>"
      ]
     },
     "metadata": {},
     "output_type": "display_data"
    },
    {
     "data": {
      "text/plain": [
       "<Figure size 640x480 with 1 Axes>"
      ]
     },
     "metadata": {},
     "output_type": "display_data"
    },
    {
     "data": {
      "text/plain": [
       "<Figure size 640x480 with 1 Axes>"
      ]
     },
     "metadata": {},
     "output_type": "display_data"
    },
    {
     "data": {
      "text/plain": [
       "<Figure size 640x480 with 1 Axes>"
      ]
     },
     "metadata": {},
     "output_type": "display_data"
    },
    {
     "data": {
      "text/plain": [
       "<Figure size 640x480 with 1 Axes>"
      ]
     },
     "metadata": {},
     "output_type": "display_data"
    },
    {
     "data": {
      "text/plain": [
       "<Figure size 640x480 with 1 Axes>"
      ]
     },
     "metadata": {},
     "output_type": "display_data"
    },
    {
     "data": {
      "text/plain": [
       "<Figure size 640x480 with 1 Axes>"
      ]
     },
     "metadata": {},
     "output_type": "display_data"
    },
    {
     "data": {
      "text/plain": [
       "<Figure size 640x480 with 1 Axes>"
      ]
     },
     "metadata": {},
     "output_type": "display_data"
    },
    {
     "data": {
      "text/plain": [
       "<Figure size 640x480 with 1 Axes>"
      ]
     },
     "metadata": {},
     "output_type": "display_data"
    },
    {
     "data": {
      "text/plain": [
       "<Figure size 640x480 with 1 Axes>"
      ]
     },
     "metadata": {},
     "output_type": "display_data"
    },
    {
     "data": {
      "text/plain": [
       "<Figure size 640x480 with 1 Axes>"
      ]
     },
     "metadata": {},
     "output_type": "display_data"
    },
    {
     "data": {
      "text/plain": [
       "<Figure size 640x480 with 1 Axes>"
      ]
     },
     "metadata": {},
     "output_type": "display_data"
    },
    {
     "data": {
      "text/plain": [
       "<Figure size 640x480 with 1 Axes>"
      ]
     },
     "metadata": {},
     "output_type": "display_data"
    },
    {
     "data": {
      "text/plain": [
       "<Figure size 640x480 with 1 Axes>"
      ]
     },
     "metadata": {},
     "output_type": "display_data"
    },
    {
     "data": {
      "text/plain": [
       "<Figure size 640x480 with 1 Axes>"
      ]
     },
     "metadata": {},
     "output_type": "display_data"
    },
    {
     "data": {
      "text/plain": [
       "<Figure size 640x480 with 1 Axes>"
      ]
     },
     "metadata": {},
     "output_type": "display_data"
    },
    {
     "data": {
      "text/plain": [
       "<Figure size 640x480 with 1 Axes>"
      ]
     },
     "metadata": {},
     "output_type": "display_data"
    },
    {
     "data": {
      "text/plain": [
       "<Figure size 640x480 with 1 Axes>"
      ]
     },
     "metadata": {},
     "output_type": "display_data"
    },
    {
     "data": {
      "text/plain": [
       "<Figure size 640x480 with 1 Axes>"
      ]
     },
     "metadata": {},
     "output_type": "display_data"
    },
    {
     "data": {
      "text/plain": [
       "<Figure size 640x480 with 1 Axes>"
      ]
     },
     "metadata": {},
     "output_type": "display_data"
    },
    {
     "data": {
      "text/plain": [
       "<Figure size 640x480 with 1 Axes>"
      ]
     },
     "metadata": {},
     "output_type": "display_data"
    },
    {
     "data": {
      "text/plain": [
       "<Figure size 640x480 with 1 Axes>"
      ]
     },
     "metadata": {},
     "output_type": "display_data"
    },
    {
     "data": {
      "text/plain": [
       "<Figure size 640x480 with 1 Axes>"
      ]
     },
     "metadata": {},
     "output_type": "display_data"
    },
    {
     "data": {
      "text/plain": [
       "<Figure size 640x480 with 1 Axes>"
      ]
     },
     "metadata": {},
     "output_type": "display_data"
    },
    {
     "data": {
      "text/plain": [
       "<Figure size 640x480 with 1 Axes>"
      ]
     },
     "metadata": {},
     "output_type": "display_data"
    },
    {
     "data": {
      "text/plain": [
       "<Figure size 640x480 with 1 Axes>"
      ]
     },
     "metadata": {},
     "output_type": "display_data"
    },
    {
     "data": {
      "text/plain": [
       "<Figure size 640x480 with 1 Axes>"
      ]
     },
     "metadata": {},
     "output_type": "display_data"
    },
    {
     "data": {
      "text/plain": [
       "<Figure size 640x480 with 1 Axes>"
      ]
     },
     "metadata": {},
     "output_type": "display_data"
    },
    {
     "data": {
      "text/plain": [
       "<Figure size 640x480 with 1 Axes>"
      ]
     },
     "metadata": {},
     "output_type": "display_data"
    },
    {
     "data": {
      "text/plain": [
       "<Figure size 640x480 with 1 Axes>"
      ]
     },
     "metadata": {},
     "output_type": "display_data"
    },
    {
     "data": {
      "text/plain": [
       "<Figure size 640x480 with 1 Axes>"
      ]
     },
     "metadata": {},
     "output_type": "display_data"
    },
    {
     "data": {
      "text/plain": [
       "<Figure size 640x480 with 1 Axes>"
      ]
     },
     "metadata": {},
     "output_type": "display_data"
    },
    {
     "data": {
      "text/plain": [
       "<Figure size 640x480 with 1 Axes>"
      ]
     },
     "metadata": {},
     "output_type": "display_data"
    },
    {
     "data": {
      "text/plain": [
       "<Figure size 640x480 with 1 Axes>"
      ]
     },
     "metadata": {},
     "output_type": "display_data"
    },
    {
     "data": {
      "text/plain": [
       "<Figure size 640x480 with 1 Axes>"
      ]
     },
     "metadata": {},
     "output_type": "display_data"
    },
    {
     "data": {
      "text/plain": [
       "<Figure size 640x480 with 1 Axes>"
      ]
     },
     "metadata": {},
     "output_type": "display_data"
    },
    {
     "data": {
      "text/plain": [
       "<Figure size 640x480 with 1 Axes>"
      ]
     },
     "metadata": {},
     "output_type": "display_data"
    },
    {
     "data": {
      "text/plain": [
       "<Figure size 640x480 with 1 Axes>"
      ]
     },
     "metadata": {},
     "output_type": "display_data"
    },
    {
     "data": {
      "text/plain": [
       "<Figure size 640x480 with 1 Axes>"
      ]
     },
     "metadata": {},
     "output_type": "display_data"
    },
    {
     "data": {
      "text/plain": [
       "<Figure size 640x480 with 1 Axes>"
      ]
     },
     "metadata": {},
     "output_type": "display_data"
    },
    {
     "data": {
      "text/plain": [
       "<Figure size 640x480 with 1 Axes>"
      ]
     },
     "metadata": {},
     "output_type": "display_data"
    },
    {
     "data": {
      "text/plain": [
       "<Figure size 640x480 with 1 Axes>"
      ]
     },
     "metadata": {},
     "output_type": "display_data"
    },
    {
     "data": {
      "text/plain": [
       "<Figure size 640x480 with 1 Axes>"
      ]
     },
     "metadata": {},
     "output_type": "display_data"
    },
    {
     "data": {
      "text/plain": [
       "<Figure size 640x480 with 1 Axes>"
      ]
     },
     "metadata": {},
     "output_type": "display_data"
    },
    {
     "data": {
      "text/plain": [
       "<Figure size 640x480 with 1 Axes>"
      ]
     },
     "metadata": {},
     "output_type": "display_data"
    },
    {
     "data": {
      "text/plain": [
       "<Figure size 640x480 with 1 Axes>"
      ]
     },
     "metadata": {},
     "output_type": "display_data"
    },
    {
     "data": {
      "text/plain": [
       "<Figure size 640x480 with 1 Axes>"
      ]
     },
     "metadata": {},
     "output_type": "display_data"
    },
    {
     "data": {
      "text/plain": [
       "<Figure size 640x480 with 1 Axes>"
      ]
     },
     "metadata": {},
     "output_type": "display_data"
    },
    {
     "data": {
      "text/plain": [
       "<Figure size 640x480 with 1 Axes>"
      ]
     },
     "metadata": {},
     "output_type": "display_data"
    },
    {
     "data": {
      "text/plain": [
       "<Figure size 640x480 with 1 Axes>"
      ]
     },
     "metadata": {},
     "output_type": "display_data"
    },
    {
     "data": {
      "text/plain": [
       "<Figure size 640x480 with 1 Axes>"
      ]
     },
     "metadata": {},
     "output_type": "display_data"
    },
    {
     "data": {
      "text/plain": [
       "<Figure size 640x480 with 1 Axes>"
      ]
     },
     "metadata": {},
     "output_type": "display_data"
    },
    {
     "data": {
      "text/plain": [
       "<Figure size 640x480 with 1 Axes>"
      ]
     },
     "metadata": {},
     "output_type": "display_data"
    },
    {
     "data": {
      "text/plain": [
       "<Figure size 640x480 with 1 Axes>"
      ]
     },
     "metadata": {},
     "output_type": "display_data"
    },
    {
     "data": {
      "text/plain": [
       "<Figure size 640x480 with 1 Axes>"
      ]
     },
     "metadata": {},
     "output_type": "display_data"
    },
    {
     "data": {
      "text/plain": [
       "<Figure size 640x480 with 1 Axes>"
      ]
     },
     "metadata": {},
     "output_type": "display_data"
    },
    {
     "data": {
      "text/plain": [
       "<Figure size 640x480 with 1 Axes>"
      ]
     },
     "metadata": {},
     "output_type": "display_data"
    },
    {
     "data": {
      "text/plain": [
       "<Figure size 640x480 with 1 Axes>"
      ]
     },
     "metadata": {},
     "output_type": "display_data"
    },
    {
     "data": {
      "text/plain": [
       "<Figure size 640x480 with 1 Axes>"
      ]
     },
     "metadata": {},
     "output_type": "display_data"
    },
    {
     "data": {
      "text/plain": [
       "<Figure size 640x480 with 1 Axes>"
      ]
     },
     "metadata": {},
     "output_type": "display_data"
    },
    {
     "data": {
      "text/plain": [
       "<Figure size 640x480 with 1 Axes>"
      ]
     },
     "metadata": {},
     "output_type": "display_data"
    },
    {
     "data": {
      "text/plain": [
       "<Figure size 640x480 with 1 Axes>"
      ]
     },
     "metadata": {},
     "output_type": "display_data"
    },
    {
     "data": {
      "text/plain": [
       "<Figure size 640x480 with 1 Axes>"
      ]
     },
     "metadata": {},
     "output_type": "display_data"
    },
    {
     "data": {
      "text/plain": [
       "<Figure size 640x480 with 1 Axes>"
      ]
     },
     "metadata": {},
     "output_type": "display_data"
    },
    {
     "data": {
      "text/plain": [
       "<Figure size 640x480 with 1 Axes>"
      ]
     },
     "metadata": {},
     "output_type": "display_data"
    },
    {
     "data": {
      "text/plain": [
       "<Figure size 640x480 with 1 Axes>"
      ]
     },
     "metadata": {},
     "output_type": "display_data"
    },
    {
     "data": {
      "text/plain": [
       "<Figure size 640x480 with 1 Axes>"
      ]
     },
     "metadata": {},
     "output_type": "display_data"
    },
    {
     "data": {
      "text/plain": [
       "<Figure size 640x480 with 1 Axes>"
      ]
     },
     "metadata": {},
     "output_type": "display_data"
    },
    {
     "data": {
      "text/plain": [
       "<Figure size 640x480 with 1 Axes>"
      ]
     },
     "metadata": {},
     "output_type": "display_data"
    },
    {
     "data": {
      "text/plain": [
       "<Figure size 640x480 with 1 Axes>"
      ]
     },
     "metadata": {},
     "output_type": "display_data"
    },
    {
     "data": {
      "text/plain": [
       "<Figure size 640x480 with 1 Axes>"
      ]
     },
     "metadata": {},
     "output_type": "display_data"
    },
    {
     "data": {
      "text/plain": [
       "<Figure size 640x480 with 1 Axes>"
      ]
     },
     "metadata": {},
     "output_type": "display_data"
    },
    {
     "data": {
      "text/plain": [
       "<Figure size 640x480 with 1 Axes>"
      ]
     },
     "metadata": {},
     "output_type": "display_data"
    },
    {
     "data": {
      "text/plain": [
       "<Figure size 640x480 with 1 Axes>"
      ]
     },
     "metadata": {},
     "output_type": "display_data"
    },
    {
     "data": {
      "text/plain": [
       "<Figure size 640x480 with 1 Axes>"
      ]
     },
     "metadata": {},
     "output_type": "display_data"
    },
    {
     "data": {
      "text/plain": [
       "<Figure size 640x480 with 1 Axes>"
      ]
     },
     "metadata": {},
     "output_type": "display_data"
    },
    {
     "data": {
      "text/plain": [
       "<Figure size 640x480 with 1 Axes>"
      ]
     },
     "metadata": {},
     "output_type": "display_data"
    },
    {
     "data": {
      "text/plain": [
       "<Figure size 640x480 with 1 Axes>"
      ]
     },
     "metadata": {},
     "output_type": "display_data"
    },
    {
     "data": {
      "text/plain": [
       "<Figure size 640x480 with 1 Axes>"
      ]
     },
     "metadata": {},
     "output_type": "display_data"
    },
    {
     "data": {
      "text/plain": [
       "<Figure size 640x480 with 1 Axes>"
      ]
     },
     "metadata": {},
     "output_type": "display_data"
    },
    {
     "data": {
      "text/plain": [
       "<Figure size 640x480 with 1 Axes>"
      ]
     },
     "metadata": {},
     "output_type": "display_data"
    },
    {
     "data": {
      "text/plain": [
       "<Figure size 640x480 with 1 Axes>"
      ]
     },
     "metadata": {},
     "output_type": "display_data"
    },
    {
     "data": {
      "text/plain": [
       "<Figure size 640x480 with 1 Axes>"
      ]
     },
     "metadata": {},
     "output_type": "display_data"
    },
    {
     "data": {
      "text/plain": [
       "<Figure size 640x480 with 1 Axes>"
      ]
     },
     "metadata": {},
     "output_type": "display_data"
    },
    {
     "data": {
      "text/plain": [
       "<Figure size 640x480 with 1 Axes>"
      ]
     },
     "metadata": {},
     "output_type": "display_data"
    },
    {
     "data": {
      "text/plain": [
       "<Figure size 640x480 with 1 Axes>"
      ]
     },
     "metadata": {},
     "output_type": "display_data"
    },
    {
     "data": {
      "text/plain": [
       "<Figure size 640x480 with 1 Axes>"
      ]
     },
     "metadata": {},
     "output_type": "display_data"
    },
    {
     "data": {
      "text/plain": [
       "<Figure size 640x480 with 1 Axes>"
      ]
     },
     "metadata": {},
     "output_type": "display_data"
    },
    {
     "data": {
      "text/plain": [
       "<Figure size 640x480 with 1 Axes>"
      ]
     },
     "metadata": {},
     "output_type": "display_data"
    },
    {
     "data": {
      "text/plain": [
       "<Figure size 640x480 with 1 Axes>"
      ]
     },
     "metadata": {},
     "output_type": "display_data"
    },
    {
     "data": {
      "text/plain": [
       "<Figure size 640x480 with 1 Axes>"
      ]
     },
     "metadata": {},
     "output_type": "display_data"
    },
    {
     "data": {
      "text/plain": [
       "<Figure size 640x480 with 1 Axes>"
      ]
     },
     "metadata": {},
     "output_type": "display_data"
    },
    {
     "data": {
      "text/plain": [
       "<Figure size 640x480 with 1 Axes>"
      ]
     },
     "metadata": {},
     "output_type": "display_data"
    },
    {
     "data": {
      "text/plain": [
       "<Figure size 640x480 with 1 Axes>"
      ]
     },
     "metadata": {},
     "output_type": "display_data"
    },
    {
     "data": {
      "text/plain": [
       "<Figure size 640x480 with 1 Axes>"
      ]
     },
     "metadata": {},
     "output_type": "display_data"
    },
    {
     "data": {
      "text/plain": [
       "<Figure size 640x480 with 1 Axes>"
      ]
     },
     "metadata": {},
     "output_type": "display_data"
    },
    {
     "data": {
      "text/plain": [
       "<Figure size 640x480 with 1 Axes>"
      ]
     },
     "metadata": {},
     "output_type": "display_data"
    },
    {
     "data": {
      "text/plain": [
       "<Figure size 640x480 with 1 Axes>"
      ]
     },
     "metadata": {},
     "output_type": "display_data"
    },
    {
     "data": {
      "text/plain": [
       "<Figure size 640x480 with 1 Axes>"
      ]
     },
     "metadata": {},
     "output_type": "display_data"
    },
    {
     "data": {
      "text/plain": [
       "<Figure size 640x480 with 1 Axes>"
      ]
     },
     "metadata": {},
     "output_type": "display_data"
    },
    {
     "data": {
      "text/plain": [
       "<Figure size 640x480 with 1 Axes>"
      ]
     },
     "metadata": {},
     "output_type": "display_data"
    },
    {
     "data": {
      "text/plain": [
       "<Figure size 640x480 with 1 Axes>"
      ]
     },
     "metadata": {},
     "output_type": "display_data"
    },
    {
     "data": {
      "text/plain": [
       "<Figure size 640x480 with 1 Axes>"
      ]
     },
     "metadata": {},
     "output_type": "display_data"
    },
    {
     "data": {
      "text/plain": [
       "<Figure size 640x480 with 1 Axes>"
      ]
     },
     "metadata": {},
     "output_type": "display_data"
    },
    {
     "data": {
      "text/plain": [
       "<Figure size 640x480 with 1 Axes>"
      ]
     },
     "metadata": {},
     "output_type": "display_data"
    },
    {
     "data": {
      "text/plain": [
       "<Figure size 640x480 with 1 Axes>"
      ]
     },
     "metadata": {},
     "output_type": "display_data"
    },
    {
     "data": {
      "text/plain": [
       "<Figure size 640x480 with 1 Axes>"
      ]
     },
     "metadata": {},
     "output_type": "display_data"
    },
    {
     "data": {
      "text/plain": [
       "<Figure size 640x480 with 1 Axes>"
      ]
     },
     "metadata": {},
     "output_type": "display_data"
    },
    {
     "data": {
      "text/plain": [
       "<Figure size 640x480 with 1 Axes>"
      ]
     },
     "metadata": {},
     "output_type": "display_data"
    },
    {
     "data": {
      "text/plain": [
       "<Figure size 640x480 with 1 Axes>"
      ]
     },
     "metadata": {},
     "output_type": "display_data"
    },
    {
     "data": {
      "text/plain": [
       "<Figure size 640x480 with 1 Axes>"
      ]
     },
     "metadata": {},
     "output_type": "display_data"
    },
    {
     "data": {
      "text/plain": [
       "<Figure size 640x480 with 1 Axes>"
      ]
     },
     "metadata": {},
     "output_type": "display_data"
    },
    {
     "data": {
      "text/plain": [
       "<Figure size 640x480 with 1 Axes>"
      ]
     },
     "metadata": {},
     "output_type": "display_data"
    },
    {
     "data": {
      "text/plain": [
       "<Figure size 640x480 with 1 Axes>"
      ]
     },
     "metadata": {},
     "output_type": "display_data"
    },
    {
     "data": {
      "text/plain": [
       "<Figure size 640x480 with 1 Axes>"
      ]
     },
     "metadata": {},
     "output_type": "display_data"
    },
    {
     "data": {
      "text/plain": [
       "<Figure size 640x480 with 1 Axes>"
      ]
     },
     "metadata": {},
     "output_type": "display_data"
    },
    {
     "data": {
      "text/plain": [
       "<Figure size 640x480 with 1 Axes>"
      ]
     },
     "metadata": {},
     "output_type": "display_data"
    },
    {
     "data": {
      "text/plain": [
       "<Figure size 640x480 with 1 Axes>"
      ]
     },
     "metadata": {},
     "output_type": "display_data"
    },
    {
     "data": {
      "text/plain": [
       "<Figure size 640x480 with 1 Axes>"
      ]
     },
     "metadata": {},
     "output_type": "display_data"
    },
    {
     "data": {
      "text/plain": [
       "<Figure size 640x480 with 1 Axes>"
      ]
     },
     "metadata": {},
     "output_type": "display_data"
    },
    {
     "data": {
      "text/plain": [
       "<Figure size 640x480 with 1 Axes>"
      ]
     },
     "metadata": {},
     "output_type": "display_data"
    },
    {
     "data": {
      "text/plain": [
       "<Figure size 640x480 with 1 Axes>"
      ]
     },
     "metadata": {},
     "output_type": "display_data"
    },
    {
     "data": {
      "text/plain": [
       "<Figure size 640x480 with 1 Axes>"
      ]
     },
     "metadata": {},
     "output_type": "display_data"
    },
    {
     "data": {
      "text/plain": [
       "<Figure size 640x480 with 1 Axes>"
      ]
     },
     "metadata": {},
     "output_type": "display_data"
    }
   ],
   "source": [
    "import numpy as np\n",
    "\n",
    "vecs = np.array(all_vectors)\n",
    "\n",
    "\n",
    "import matplotlib.pyplot as plt\n",
    "for d in range(vecs.shape[1]):\n",
    "    plt.hist(vecs[:,d])\n",
    "    plt.show()\n",
    "    "
   ]
  },
  {
   "cell_type": "code",
   "execution_count": 5,
   "metadata": {},
   "outputs": [
    {
     "name": "stderr",
     "output_type": "stream",
     "text": [
      "/home/bizon/anaconda3/lib/python3.7/site-packages/ipykernel_launcher.py:85: TqdmDeprecationWarning: This function will be removed in tqdm==5.0.0\n",
      "Please use `tqdm.notebook.tqdm` instead of `tqdm.tqdm_notebook`\n"
     ]
    },
    {
     "data": {
      "application/vnd.jupyter.widget-view+json": {
       "model_id": "f0dfa47b58404ce29136dd68eb28c7bb",
       "version_major": 2,
       "version_minor": 0
      },
      "text/plain": [
       "HBox(children=(FloatProgress(value=0.0, max=5.0), HTML(value='')))"
      ]
     },
     "metadata": {},
     "output_type": "display_data"
    },
    {
     "name": "stdout",
     "output_type": "stream",
     "text": [
      "rm: cannot remove 'gru_generation_256_Castlevania/*': No such file or directory\n",
      "1000\n",
      "968\n",
      "936\n",
      "904\n",
      "872\n",
      "840\n",
      "808\n",
      "776\n",
      "744\n",
      "712\n",
      "680\n",
      "648\n",
      "616\n",
      "584\n",
      "552\n",
      "520\n",
      "488\n",
      "456\n",
      "424\n",
      "392\n",
      "360\n",
      "328\n",
      "296\n",
      "264\n",
      "232\n",
      "200\n",
      "168\n",
      "136\n",
      "104\n",
      "72\n",
      "40\n",
      "8\n",
      "rm: cannot remove 'gru_generation_256_Mario/*': No such file or directory\n",
      "1000\n",
      "968\n",
      "936\n",
      "904\n",
      "872\n",
      "840\n",
      "808\n",
      "776\n",
      "744\n",
      "712\n",
      "680\n",
      "648\n",
      "616\n",
      "584\n",
      "552\n",
      "520\n",
      "488\n",
      "456\n",
      "424\n",
      "392\n",
      "360\n",
      "328\n",
      "296\n",
      "264\n",
      "232\n",
      "200\n",
      "168\n",
      "136\n",
      "104\n",
      "72\n",
      "40\n",
      "8\n",
      "rm: cannot remove 'gru_generation_256_MegaMan/*': No such file or directory\n",
      "1000\n",
      "968\n",
      "936\n",
      "904\n",
      "872\n",
      "840\n",
      "808\n",
      "776\n",
      "744\n",
      "712\n",
      "680\n",
      "648\n",
      "616\n",
      "584\n",
      "552\n",
      "520\n",
      "488\n",
      "456\n",
      "424\n",
      "392\n",
      "360\n",
      "328\n",
      "296\n",
      "264\n",
      "232\n",
      "200\n",
      "168\n",
      "136\n",
      "104\n",
      "72\n",
      "40\n",
      "8\n",
      "rm: cannot remove 'gru_generation_256_Metroid/*': No such file or directory\n",
      "1000\n",
      "968\n",
      "936\n",
      "904\n",
      "872\n",
      "840\n",
      "808\n",
      "776\n",
      "745\n",
      "713\n",
      "681\n",
      "649\n",
      "617\n",
      "585\n",
      "553\n",
      "521\n",
      "489\n",
      "457\n",
      "425\n",
      "393\n",
      "361\n",
      "329\n",
      "297\n",
      "265\n",
      "233\n",
      "201\n",
      "169\n",
      "137\n",
      "105\n",
      "73\n",
      "41\n",
      "9\n",
      "rm: cannot remove 'gru_generation_256_NinjaGaiden/*': No such file or directory\n",
      "1000\n",
      "968\n",
      "936\n",
      "904\n",
      "872\n",
      "840\n",
      "808\n",
      "776\n",
      "744\n",
      "712\n",
      "680\n",
      "648\n",
      "616\n",
      "584\n",
      "552\n",
      "520\n",
      "488\n",
      "456\n",
      "424\n",
      "392\n",
      "360\n",
      "328\n",
      "296\n",
      "264\n",
      "232\n",
      "200\n",
      "169\n",
      "137\n",
      "105\n",
      "73\n",
      "41\n",
      "9\n",
      "\n"
     ]
    }
   ],
   "source": [
    "import random\n",
    "import torch.nn.functional as F\n",
    "def top_k_top_p_filtering(logits, top_k=0, top_p=0.0, filter_value=-float('Inf')):\n",
    "    \"\"\" Filter a distribution of logits using top-k and/or nucleus (top-p) filtering\n",
    "        Args:\n",
    "            logits: logits distribution shape (batch size x vocabulary size)\n",
    "            top_k > 0: keep only top k tokens with highest probability (top-k filtering).\n",
    "            top_p > 0.0: keep the top tokens with cumulative probability >= top_p (nucleus filtering).\n",
    "                Nucleus filtering is described in Holtzman et al. (http://arxiv.org/abs/1904.09751)\n",
    "        From: https://gist.github.com/thomwolf/1a5a29f6962089e871b94cbd09daf317\n",
    "    \"\"\"\n",
    "    top_k = min(top_k, logits.size(-1))  # Safety check\n",
    "    if top_k > 0:\n",
    "        # Remove all tokens with a probability less than the last token of the top-k\n",
    "        indices_to_remove = logits < torch.topk(logits, top_k)[0][..., -1, None]\n",
    "        logits[indices_to_remove] = filter_value\n",
    "\n",
    "    if top_p > 0.0:\n",
    "        sorted_logits, sorted_indices = torch.sort(logits, descending=True)\n",
    "        cumulative_probs = torch.cumsum(F.softmax(sorted_logits, dim=-1), dim=-1)\n",
    "\n",
    "        # Remove tokens with cumulative probability above the threshold\n",
    "        sorted_indices_to_remove = cumulative_probs > top_p\n",
    "        # Shift the indices to the right to keep also the first token above the threshold\n",
    "        sorted_indices_to_remove[..., 1:] = sorted_indices_to_remove[..., :-1].clone()\n",
    "        sorted_indices_to_remove[..., 0] = 0\n",
    "        # scatter sorted tensors to original indexing\n",
    "        indices_to_remove = sorted_indices_to_remove.scatter(dim=1, index=sorted_indices, src=sorted_indices_to_remove)\n",
    "        \n",
    "        logits[indices_to_remove] = filter_value\n",
    "    return logits\n",
    "\n",
    "\n",
    "mus  = np.mean(vecs,axis=0)\n",
    "stds = np.std(vecs,axis=0)\n",
    "\n",
    "\n",
    "def decode(self,z,seq_length,start_tok,temp):\n",
    "    dec_h = self.latent_to_h(z)\n",
    "    dec_h = dec_h.view(batch_size,-1, self.dec_size).permute(1,0,2).contiguous()\n",
    "    dec_c = self.latent_to_c(z)\n",
    "    dec_c = dec_c.view(batch_size,-1, self.dec_size).permute(1,0,2).contiguous()\n",
    "\n",
    "    dec_inp = self.embed(torch.ones(batch_size,1,dtype=torch.long,device=device)*start_tok)\n",
    "    tokens = []    \n",
    "    scores = []\n",
    "    for ii in range(seq_length):   \n",
    "        if self.rnn_type == nn.LSTM:\n",
    "            dec_out, (dec_h,dec_c) =self.decoder(dec_inp,(dec_h,dec_c))\n",
    "        else:\n",
    "            dec_out, dec_h =self.decoder(dec_inp,dec_h)\n",
    "            \n",
    "        dec_logit = self.hidden_to_vocab(dec_out[:,-1,:]).view(batch_size,-1)\n",
    "        dec_logit = top_k_top_p_filtering(dec_logit,top_k=5)\n",
    "        next_token = torch.multinomial(F.softmax(dec_logit/temp, dim=-1), num_samples=1)\n",
    "        \n",
    "        tokens.append(next_token.detach())\n",
    "        chosen_scores = []\n",
    "        for ii,tok in enumerate(tokens[-1]):\n",
    "            chosen_scores.append(dec_logit[ii,tok].item())\n",
    "        scores.append(chosen_scores)\n",
    "        dec_inp = self.embed(next_token).view(batch_size,1,-1)        \n",
    "\n",
    "    return tokens,scores\n",
    "\n",
    "def prettify(level):\n",
    "    levelstr = ''\n",
    "    level = level.split(';')\n",
    "    \n",
    "    level = [c for c in level if len(c) == len(level[0])]\n",
    "    width = len(level)\n",
    "    height = len(level[0]) \n",
    "    for y in range(height):\n",
    "        for x in range(width):\n",
    "\n",
    "            levelstr += level[x][y]\n",
    "        levelstr += '\\n'\n",
    "    return levelstr\n",
    "\n",
    "\n",
    "from tqdm import tqdm_notebook\n",
    "\n",
    "\n",
    "\n",
    "for game in tqdm_notebook(vectors_by_game):\n",
    "    game_f = game.replace(' ','')\n",
    "    mus,stds,_ = vectors_by_game[game]\n",
    "    out_folder = f'gru_generation_{l_size}_{game_f}'\n",
    "\n",
    "    !mkdir {out_folder}\n",
    "    !rm {out_folder}/*\n",
    "\n",
    "    batch_size = 32\n",
    "    total_count = 1000\n",
    "\n",
    "    count = 0\n",
    "    sequence_length = len(chunk)\n",
    "    acceptance_temp = 1.0\n",
    "    with torch.no_grad():\n",
    "        while total_count > 0:\n",
    "            print(total_count)\n",
    "            samples = 5\n",
    "            best_scores = np.ones(batch_size)*-np.inf\n",
    "            best_samples = [None]*batch_size\n",
    "            good = False\n",
    "            Zs = torch.tensor(np.random.normal(mus,stds,(batch_size,mus.shape[0])),dtype=torch.float32).to(device)\n",
    "            for _ in range(samples):   \n",
    "                good = True\n",
    "\n",
    "                with torch.no_grad():\n",
    "                    rnn_vae.eval()\n",
    "                    encoded, scores = decode(rnn_vae,Zs,sequence_length,v2i['{'],1.0)\n",
    "\n",
    "                scores = np.array(scores)\n",
    "                scores = np.mean(scores,axis=0)\n",
    "                for ii,(sc,be) in enumerate(zip(scores,best_scores)):\n",
    "                    if random.random() < np.exp( (sc - be)/acceptance_temp):\n",
    "                        generation = []\n",
    "                        for batch in encoded:\n",
    "                            token = batch[ii].item()\n",
    "                            generation.append(token)\n",
    "                        pretty = prettify(''.join([i2v[t] for t in generation]))\n",
    "                        if len(pretty) < 495:\n",
    "                            continue\n",
    "                        best_scores[ii] = sc\n",
    "                        best_samples[ii] = pretty\n",
    "                if np.mean(best_scores) == -np.inf:\n",
    "                    good = False\n",
    "                good = good and samples <= 0\n",
    "\n",
    "            for out_level in best_samples:\n",
    "                if out_level is None:\n",
    "                    continue\n",
    "                if len(out_level) < 495:\n",
    "                    continue\n",
    "\n",
    "                total_count -= 1\n",
    "                count += 1\n",
    "                with open(f'{out_folder}/{count}.txt','w') as outfile:\n",
    "                    outfile.write(out_level)"
   ]
  },
  {
   "cell_type": "code",
   "execution_count": null,
   "metadata": {},
   "outputs": [],
   "source": []
  },
  {
   "cell_type": "code",
   "execution_count": null,
   "metadata": {},
   "outputs": [],
   "source": []
  },
  {
   "cell_type": "code",
   "execution_count": null,
   "metadata": {},
   "outputs": [],
   "source": []
  }
 ],
 "metadata": {
  "kernelspec": {
   "display_name": "Python 3",
   "language": "python",
   "name": "python3"
  },
  "language_info": {
   "codemirror_mode": {
    "name": "ipython",
    "version": 3
   },
   "file_extension": ".py",
   "mimetype": "text/x-python",
   "name": "python",
   "nbconvert_exporter": "python",
   "pygments_lexer": "ipython3",
   "version": "3.7.0"
  }
 },
 "nbformat": 4,
 "nbformat_minor": 2
}
